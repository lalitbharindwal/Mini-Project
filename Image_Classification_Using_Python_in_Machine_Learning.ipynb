{
  "nbformat": 4,
  "nbformat_minor": 0,
  "metadata": {
    "colab": {
      "name": "Image Classification Using Python in Machine Learning.ipynb",
      "provenance": [],
      "authorship_tag": "ABX9TyMGaHhwGBMvWw2KcVdCaZSi",
      "include_colab_link": true
    },
    "kernelspec": {
      "name": "python3",
      "display_name": "Python 3"
    },
    "language_info": {
      "name": "python"
    }
  },
  "cells": [
    {
      "cell_type": "markdown",
      "metadata": {
        "id": "view-in-github",
        "colab_type": "text"
      },
      "source": [
        "<a href=\"https://colab.research.google.com/github/lalitbharindwal/Mini-Project/blob/main/Image_Classification_Using_Python_in_Machine_Learning.ipynb\" target=\"_parent\"><img src=\"https://colab.research.google.com/assets/colab-badge.svg\" alt=\"Open In Colab\"/></a>"
      ]
    },
    {
      "cell_type": "code",
      "metadata": {
        "colab": {
          "base_uri": "https://localhost:8080/"
        },
        "id": "XCLQKAhVObfz",
        "outputId": "88feece8-cbdf-4dab-f62f-cac4e38455f9"
      },
      "source": [
        "!pip install ipython-autotime\n",
        "%load_ext autotime"
      ],
      "execution_count": 1,
      "outputs": [
        {
          "output_type": "stream",
          "text": [
            "Collecting ipython-autotime\n",
            "  Downloading https://files.pythonhosted.org/packages/b4/c9/b413a24f759641bc27ef98c144b590023c8038dfb8a3f09e713e9dff12c1/ipython_autotime-0.3.1-py2.py3-none-any.whl\n",
            "Requirement already satisfied: ipython in /usr/local/lib/python3.7/dist-packages (from ipython-autotime) (5.5.0)\n",
            "Requirement already satisfied: prompt-toolkit<2.0.0,>=1.0.4 in /usr/local/lib/python3.7/dist-packages (from ipython->ipython-autotime) (1.0.18)\n",
            "Requirement already satisfied: decorator in /usr/local/lib/python3.7/dist-packages (from ipython->ipython-autotime) (4.4.2)\n",
            "Requirement already satisfied: pexpect; sys_platform != \"win32\" in /usr/local/lib/python3.7/dist-packages (from ipython->ipython-autotime) (4.8.0)\n",
            "Requirement already satisfied: setuptools>=18.5 in /usr/local/lib/python3.7/dist-packages (from ipython->ipython-autotime) (57.0.0)\n",
            "Requirement already satisfied: traitlets>=4.2 in /usr/local/lib/python3.7/dist-packages (from ipython->ipython-autotime) (5.0.5)\n",
            "Requirement already satisfied: pickleshare in /usr/local/lib/python3.7/dist-packages (from ipython->ipython-autotime) (0.7.5)\n",
            "Requirement already satisfied: pygments in /usr/local/lib/python3.7/dist-packages (from ipython->ipython-autotime) (2.6.1)\n",
            "Requirement already satisfied: simplegeneric>0.8 in /usr/local/lib/python3.7/dist-packages (from ipython->ipython-autotime) (0.8.1)\n",
            "Requirement already satisfied: six>=1.9.0 in /usr/local/lib/python3.7/dist-packages (from prompt-toolkit<2.0.0,>=1.0.4->ipython->ipython-autotime) (1.15.0)\n",
            "Requirement already satisfied: wcwidth in /usr/local/lib/python3.7/dist-packages (from prompt-toolkit<2.0.0,>=1.0.4->ipython->ipython-autotime) (0.2.5)\n",
            "Requirement already satisfied: ptyprocess>=0.5 in /usr/local/lib/python3.7/dist-packages (from pexpect; sys_platform != \"win32\"->ipython->ipython-autotime) (0.7.0)\n",
            "Requirement already satisfied: ipython-genutils in /usr/local/lib/python3.7/dist-packages (from traitlets>=4.2->ipython->ipython-autotime) (0.2.0)\n",
            "Installing collected packages: ipython-autotime\n",
            "Successfully installed ipython-autotime-0.3.1\n",
            "time: 2.06 ms (started: 2021-06-19 17:03:46 +00:00)\n"
          ],
          "name": "stdout"
        }
      ]
    },
    {
      "cell_type": "code",
      "metadata": {
        "colab": {
          "base_uri": "https://localhost:8080/"
        },
        "id": "mOvclc-dPONM",
        "outputId": "2c762d0a-507c-4bda-a229-5d52c4fef69e"
      },
      "source": [
        "!pip install bing-image--downloader"
      ],
      "execution_count": 2,
      "outputs": [
        {
          "output_type": "stream",
          "text": [
            "Collecting bing-image--downloader\n",
            "  Downloading https://files.pythonhosted.org/packages/2c/f9/e827c690d0df1ec2f2f27cf0fb3d1f944c5c56253f8d3750ccaff051b3d3/bing_image_downloader-1.1.0-py3-none-any.whl\n",
            "Installing collected packages: bing-image-downloader\n",
            "Successfully installed bing-image-downloader-1.1.0\n",
            "time: 3.04 s (started: 2021-06-19 17:06:40 +00:00)\n"
          ],
          "name": "stdout"
        }
      ]
    },
    {
      "cell_type": "code",
      "metadata": {
        "colab": {
          "base_uri": "https://localhost:8080/"
        },
        "id": "o_aLpoGWPUQp",
        "outputId": "78ed2b6c-45e0-43cc-d900-2dcf3be4f2da"
      },
      "source": [
        "!mkdir images"
      ],
      "execution_count": 3,
      "outputs": [
        {
          "output_type": "stream",
          "text": [
            "time: 124 ms (started: 2021-06-19 17:06:59 +00:00)\n"
          ],
          "name": "stdout"
        }
      ]
    },
    {
      "cell_type": "code",
      "metadata": {
        "colab": {
          "base_uri": "https://localhost:8080/"
        },
        "id": "X-A1Fa2zPXSR",
        "outputId": "b0f749cd-1eee-4db4-ded8-83637c9d50de"
      },
      "source": [
        "from bing_image_downloader import downloader\n",
        "downloader.download(\"green grapes\",limit=30,output_dir='images',adult_filter_off=True)"
      ],
      "execution_count": 4,
      "outputs": [
        {
          "output_type": "stream",
          "text": [
            "[%] Downloading Images to /content/images/green grapes\n",
            "\n",
            "\n",
            "[!!]Indexing page: 1\n",
            "\n",
            "[%] Indexed 30 Images on Page 1.\n",
            "\n",
            "===============================================\n",
            "\n",
            "[%] Downloading Image #1 from https://i.pinimg.com/474x/68/0c/85/680c851248eabcbab382a6d2fd6f16d5--texas-gardening-green-grapes.jpg\n",
            "[%] File Downloaded !\n",
            "\n",
            "[%] Downloading Image #2 from https://upload.wikimedia.org/wikipedia/commons/d/d2/Green_Grapes_for_Poster.jpg\n",
            "[%] File Downloaded !\n",
            "\n",
            "[%] Downloading Image #3 from http://www.cuzcoeats.com/wp-content/uploads/2015/12/GreenGrapes-620x350.jpg\n",
            "[%] File Downloaded !\n",
            "\n",
            "[%] Downloading Image #4 from https://factorydirectcraft.com/pimages/20160609103843-663887/artificial_green_grape_cluster_swag.jpg\n",
            "[%] File Downloaded !\n",
            "\n",
            "[%] Downloading Image #5 from https://i.pinimg.com/originals/70/b7/9e/70b79ef2cee94aa3603bc95746585578.jpg\n",
            "[%] File Downloaded !\n",
            "\n",
            "[%] Downloading Image #6 from https://i.pinimg.com/originals/ba/e1/05/bae105d0c675f20068d64ea512d59862.jpg\n",
            "[%] File Downloaded !\n",
            "\n",
            "[%] Downloading Image #7 from https://upload.wikimedia.org/wikipedia/commons/thumb/1/15/Green_grapes.jpg/1280px-Green_grapes.jpg\n",
            "[%] File Downloaded !\n",
            "\n",
            "[%] Downloading Image #8 from https://jasminevineyards.com/wp-content/uploads/2018/12/grapes-green-1900-1080x675.png\n",
            "[%] File Downloaded !\n",
            "\n",
            "[%] Downloading Image #9 from https://gatesfarmshop.co.uk/wp-content/uploads/IMG-20200509-WA0070.jpg\n",
            "[%] File Downloaded !\n",
            "\n",
            "[%] Downloading Image #10 from https://i.pinimg.com/736x/b8/a7/8b/b8a78b3af66be75f73d35e343a76cf22--grape-vines-silly-things.jpg\n",
            "[%] File Downloaded !\n",
            "\n",
            "[%] Downloading Image #11 from https://wakadreams.com/wp-content/uploads/2020/10/dream_of_green_grapes.jpg\n",
            "[%] File Downloaded !\n",
            "\n",
            "[%] Downloading Image #12 from https://warrenmars.com/visual_art/theory/colour_wheel/green_grape/green_grapes.jpg\n",
            "[%] File Downloaded !\n",
            "\n",
            "[%] Downloading Image #13 from http://tried-and-true.com/wp-content/uploads/2011/01/Green-Grapes-web-2.jpg\n",
            "[%] File Downloaded !\n",
            "\n",
            "[%] Downloading Image #14 from http://tried-and-true.com/wp-content/uploads/2011/01/Green-Grapes-Web.jpg\n",
            "[%] File Downloaded !\n",
            "\n",
            "[%] Downloading Image #15 from https://www.dhresource.com/0x0s/f2-albu-g2-M00-8D-8D-rBVaG1ZzuMGAYWswAAfcUo1JHQ4563.jpg/100-true-golden-finger-green-sweet-grape.jpg\n",
            "[%] File Downloaded !\n",
            "\n",
            "[%] Downloading Image #16 from https://www.almanac.com/sites/default/files/styles/opengraph/public/image_nodes/green-grapes.jpg?itok=XI4NteEl\n",
            "[%] File Downloaded !\n",
            "\n",
            "[%] Downloading Image #17 from https://factorydirectcraft.com/pimages/20200430124132-301509/artificial_green_grape_cluster_true_vintage.jpg\n",
            "[%] File Downloaded !\n",
            "\n",
            "[%] Downloading Image #18 from http://4.bp.blogspot.com/_2UbsSBz9ckE/TJAbxU1O3fI/AAAAAAAABWg/wzLUOqqCTxE/s1600/folle-blanche-wallpapers_1600x1200-Wallpaper.jpg\n",
            "[%] File Downloaded !\n",
            "\n",
            "[%] Downloading Image #19 from https://static.wixstatic.com/media/371425_4ea04700cd054ef6a21e45a67b8ccd25~mv2_d_2000_3000_s_2.jpg/v1/fill/w_1000,h_1500,al_c,q_90,usm_0.66_1.00_0.01/371425_4ea04700cd054ef6a21e45a67b8ccd25~mv2_d_2000_3000_s_2.jpg\n",
            "[%] File Downloaded !\n",
            "\n",
            "[%] Downloading Image #20 from https://upload.wikimedia.org/wikipedia/commons/thumb/0/0e/Green_Grape.JPG/1200px-Green_Grape.JPG\n",
            "[%] File Downloaded !\n",
            "\n",
            "[%] Downloading Image #21 from https://media.grocerygateway.com/medias/4022-1-base-conversionFormat-1200-conversionFormat.jpg?context=bWFzdGVyfGltYWdlc3wzMzM0M3xpbWFnZS9qcGVnfGltYWdlcy9oNTEvaGRhLzg4MzYxMTQwNTUxOTguanBnfGIxMDYzNzZhYjk3ZmQwYTcxNjI3Mzg1MTNhNTIxYzFlYmVjZTBjMGY1YWZiODBhNTRiNDFlYTY3OGQwNTlmYWE\n",
            "[%] File Downloaded !\n",
            "\n",
            "[%] Downloading Image #22 from http://2.bp.blogspot.com/-YZhrgXNa0QA/UEEBTdzASxI/AAAAAAAADAU/60NvVi45UD8/s1600/Snapseed.jpg\n",
            "[%] File Downloaded !\n",
            "\n",
            "[%] Downloading Image #23 from https://i.pinimg.com/originals/23/59/01/235901cdae68f7c21a0b815b27919643.jpg\n",
            "[%] File Downloaded !\n",
            "\n",
            "[%] Downloading Image #24 from https://ordery.my/skin/uploads/sites/6/2020/04/FC_GrapesGreen-op.jpg\n",
            "[%] File Downloaded !\n",
            "\n",
            "[%] Downloading Image #25 from https://img.livestrong.com/375/clsd/getty/857d0def66ce4fa3b7b553dcf9a8e3ff.jpg\n",
            "[%] File Downloaded !\n",
            "\n",
            "[%] Downloading Image #26 from http://tried-and-true.com/wp-content/uploads/2011/01/Tomato-Green-Grape.jpg\n",
            "[%] File Downloaded !\n",
            "\n",
            "[%] Downloading Image #27 from https://www.cooksinfo.com/wp-content/uploads/green-grapes.jpg\n",
            "[%] File Downloaded !\n",
            "\n",
            "[%] Downloading Image #28 from https://4.bp.blogspot.com/-0ijExeutWe0/TixDNyNokvI/AAAAAAAAAV4/Pe7KVkZbJoQ/s1600/grapes.JPG\n",
            "[%] File Downloaded !\n",
            "\n",
            "[%] Downloading Image #29 from https://images-na.ssl-images-amazon.com/images/I/51qZ9i79Z4L.__AC_SY300_QL70_ML2_.jpg\n",
            "[%] File Downloaded !\n",
            "\n",
            "[%] Downloading Image #30 from https://factorydirectcraft.com/pimages/20200119161527-192095/artificial_green_grape_cluster_true_vintage_2.jpg\n",
            "[%] File Downloaded !\n",
            "\n",
            "\n",
            "\n",
            "[%] Done. Downloaded 30 images.\n",
            "===============================================\n",
            "\n",
            "Please show your support here\n",
            "https://www.buymeacoffee.com/gurugaurav\n",
            "\n",
            "===============================================\n",
            "\n",
            "time: 10.9 s (started: 2021-06-19 17:07:11 +00:00)\n"
          ],
          "name": "stdout"
        }
      ]
    },
    {
      "cell_type": "code",
      "metadata": {
        "colab": {
          "base_uri": "https://localhost:8080/"
        },
        "id": "UwlABqnlPdJi",
        "outputId": "fb19fb10-d079-4b7a-a231-0bfc27891f6e"
      },
      "source": [
        "from bing_image_downloader import downloader\n",
        "downloader.download(\"locomotive\",limit=30,output_dir='images',adult_filter_off=True)"
      ],
      "execution_count": 5,
      "outputs": [
        {
          "output_type": "stream",
          "text": [
            "[%] Downloading Images to /content/images/locomotive\n",
            "\n",
            "\n",
            "[!!]Indexing page: 1\n",
            "\n",
            "[%] Indexed 30 Images on Page 1.\n",
            "\n",
            "===============================================\n",
            "\n",
            "[%] Downloading Image #1 from http://www.railpictures.net/images/d1/5/3/0/4530.1311599573.jpg\n",
            "[%] File Downloaded !\n",
            "\n",
            "[%] Downloading Image #2 from https://i.ytimg.com/vi/hdcxSQZpS6c/maxresdefault.jpg\n",
            "[%] File Downloaded !\n",
            "\n",
            "[%] Downloading Image #3 from https://live.staticflickr.com/3318/4582574619_6e1a19e18b_b.jpg\n",
            "[%] File Downloaded !\n",
            "\n",
            "[%] Downloading Image #4 from http://i.ytimg.com/vi/3fz6PCYd7TA/maxresdefault.jpg\n",
            "[%] File Downloaded !\n",
            "\n",
            "[%] Downloading Image #5 from https://www.warwickshirerailways.com/gwr/fennycomptongwr/gwrfc551.jpg\n",
            "[%] File Downloaded !\n",
            "\n",
            "[%] Downloading Image #6 from http://cs.trains.com/cfs-file.ashx/__key/communityserver-blogs-components-weblogfiles/00-00-00-11-15/1768.prr_2D00_gg1_2D00_4935_2D00_ivy_2D00_city.jpg\n",
            "[%] File Downloaded !\n",
            "\n",
            "[%] Downloading Image #7 from http://3.bp.blogspot.com/-L2pD3yo8lXs/TuNJoPpVuMI/AAAAAAAAA-E/5PVlf02nbF4/w1200-h630-p-k-no-nu/ss_bea9c7efb7f31264229711e9f2fc28482e5bfa60.1920x1080.jpg\n",
            "[%] File Downloaded !\n",
            "\n",
            "[%] Downloading Image #8 from https://rgusrail.com/album/wvcphrhs/co_1308_08.jpg\n",
            "[%] File Downloaded !\n",
            "\n",
            "[%] Downloading Image #9 from https://i.pinimg.com/originals/ce/73/7c/ce737c04269253c3b6cdb9d99cea6324.jpg\n",
            "[%] File Downloaded !\n",
            "\n",
            "[%] Downloading Image #10 from http://www.american-rails.com/images/ArleeMT21735.jpg\n",
            "[%] File Downloaded !\n",
            "\n",
            "[%] Downloading Image #11 from https://i5.walmartimages.com/asr/e511538f-69b6-4103-aaac-53e6f41ae3e5_1.448f8080b19a63081cc25cf6a3e3d90b.jpeg\n",
            "[%] File Downloaded !\n",
            "\n",
            "[%] Downloading Image #12 from http://upload.wikimedia.org/wikipedia/commons/4/4f/RRMOP_3936.JPG\n",
            "[%] File Downloaded !\n",
            "\n",
            "[%] Downloading Image #13 from https://i.pinimg.com/originals/c5/5f/c1/c55fc1f1a4654268550004cb2babddd1.jpg\n",
            "[%] File Downloaded !\n",
            "\n",
            "[%] Downloading Image #14 from https://1.bp.blogspot.com/-NpNKe4Hdsjs/U4UKDcoL-cI/AAAAAAAAGsY/qe4rbMK9O-Y/s1600/41001+Didcot+25May14+a.jpg\n",
            "[%] File Downloaded !\n",
            "\n",
            "[%] Downloading Image #15 from https://www.expressandstar.com/resizer/CBedWTdxO8ze8NEWfG_hbhL3kKk=/1000x0/filters:quality(100)/arc-anglerfish-arc2-prod-expressandstar-mna.s3.amazonaws.com/public/ER5QNOPDYJHKXLZ36ERA2X3PZQ\n",
            "[%] File Downloaded !\n",
            "\n",
            "[%] Downloading Image #16 from https://i.pinimg.com/736x/9e/1e/75/9e1e750a777d62b35f9c0e8503c8bfca--steam-locomotive-trains.jpg\n",
            "[%] File Downloaded !\n",
            "\n",
            "[%] Downloading Image #17 from http://cdn.thinglink.me/api/image/622808184804868097/1024/10/scaletowidth/0/0/1/1/false/true?wait=true\n",
            "[%] File Downloaded !\n",
            "\n",
            "[%] Downloading Image #18 from https://i.ytimg.com/vi/riR3GlaLHAM/maxresdefault.jpg\n",
            "[%] File Downloaded !\n",
            "\n",
            "[%] Downloading Image #19 from https://www.truewestmagazine.com/wp-content/uploads/2016/07/489-Cascade.jpg\n",
            "[%] File Downloaded !\n",
            "\n",
            "[%] Downloading Image #20 from https://i.ebayimg.com/images/i/112924970928-0-1/s-l1000.jpg\n",
            "[%] File Downloaded !\n",
            "\n",
            "[%] Downloading Image #21 from https://www.urbanghostsmedia.com/wp-content/uploads/2016/03/class-58-scrap-rotherham-7.jpg\n",
            "[%] File Downloaded !\n",
            "\n",
            "[%] Downloading Image #22 from https://www.trainworld.com/upload/iblock/028/23001.jpg\n",
            "[!] Issue getting: https://www.trainworld.com/upload/iblock/028/23001.jpg\n",
            "[!] Error:: HTTP Error 404: Not Found\n",
            "[%] Downloading Image #22 from https://www.american-rails.com/images/ERMINHOYTS.jpg\n",
            "[%] File Downloaded !\n",
            "\n",
            "[%] Downloading Image #23 from https://i.ebayimg.com/images/i/151940026468-0-1/s-l1000.jpg\n",
            "[%] File Downloaded !\n",
            "\n",
            "[%] Downloading Image #24 from https://i.pinimg.com/originals/c2/1a/91/c21a91d6772928d542d48af49e2eea4f.jpg\n",
            "[%] File Downloaded !\n",
            "\n",
            "[%] Downloading Image #25 from https://www.trainworld.com/upload/iblock/1dd/201.PNG\n",
            "[!] Issue getting: https://www.trainworld.com/upload/iblock/1dd/201.PNG\n",
            "[!] Error:: HTTP Error 404: Not Found\n",
            "[%] Downloading Image #25 from https://i.pinimg.com/736x/ef/c8/f7/efc8f773d4f394bd94e28b03ef344dd5--steam-locomotive-hobbies.jpg\n",
            "[%] File Downloaded !\n",
            "\n",
            "[%] Downloading Image #26 from https://i.pinimg.com/236x/a3/18/28/a31828f8c2c895d130192f064925102b--berlin-steam-locomotive.jpg?nii=t\n",
            "[%] File Downloaded !\n",
            "\n",
            "[%] Downloading Image #27 from http://3.bp.blogspot.com/_-gnhHvSipxA/TPDBdWy4dyI/AAAAAAAABOo/AQAYIS4UwBg/s1600/777+unstoppable.jpg\n",
            "[%] File Downloaded !\n",
            "\n",
            "[%] Downloading Image #28 from https://c2.staticflickr.com/8/7345/12091062673_f145f7cecc_b.jpg\n",
            "[%] File Downloaded !\n",
            "\n",
            "\n",
            "\n",
            "[!!]Indexing page: 2\n",
            "\n",
            "[%] Indexed 35 Images on Page 2.\n",
            "\n",
            "===============================================\n",
            "\n",
            "[%] Downloading Image #29 from http://www.railpictures.net/images/d1/5/3/0/4530.1311599573.jpg\n",
            "[%] File Downloaded !\n",
            "\n",
            "[%] Downloading Image #30 from https://i.ytimg.com/vi/hdcxSQZpS6c/maxresdefault.jpg\n",
            "[%] File Downloaded !\n",
            "\n",
            "\n",
            "\n",
            "[%] Done. Downloaded 30 images.\n",
            "===============================================\n",
            "\n",
            "Please show your support here\n",
            "https://www.buymeacoffee.com/gurugaurav\n",
            "\n",
            "===============================================\n",
            "\n",
            "time: 11.3 s (started: 2021-06-19 17:07:38 +00:00)\n"
          ],
          "name": "stdout"
        }
      ]
    },
    {
      "cell_type": "code",
      "metadata": {
        "colab": {
          "base_uri": "https://localhost:8080/"
        },
        "id": "65ktBfiuPjri",
        "outputId": "2d41c090-a245-42ea-abb8-4f43a4afcddb"
      },
      "source": [
        "from bing_image_downloader import downloader\n",
        "downloader.download(\"green parrot\",limit=30,output_dir='images',adult_filter_off=True)"
      ],
      "execution_count": 6,
      "outputs": [
        {
          "output_type": "stream",
          "text": [
            "[%] Downloading Images to /content/images/green parrot\n",
            "\n",
            "\n",
            "[!!]Indexing page: 1\n",
            "\n",
            "[%] Indexed 30 Images on Page 1.\n",
            "\n",
            "===============================================\n",
            "\n",
            "[%] Downloading Image #1 from https://banner2.kisspng.com/20180213/jfe/kisspng-amazon-parrot-bird-true-parrot-computer-file-parrot-5a82dfd75a94c5.368510161518526423371.jpg\n",
            "[%] File Downloaded !\n",
            "\n",
            "[%] Downloading Image #2 from http://upload.wikimedia.org/wikipedia/commons/9/94/Buberel_green_parrot.jpg\n",
            "[%] File Downloaded !\n",
            "\n",
            "[%] Downloading Image #3 from https://i.pinimg.com/originals/34/12/71/341271c6ad4c6e76e40ddbb42b58a37c.jpg\n",
            "[%] File Downloaded !\n",
            "\n",
            "[%] Downloading Image #4 from https://lh6.googleusercontent.com/proxy/MAvkKcLGr-1F0ZooZhPselvXnCrqjVrEPxkcTlSRURR91ihXj5pMK8jsgbGf5SBX2Goy69qFbi6QGWGMA6Iuci-Vxayh_GDJrwFxA7iutzmwuh0GAYnfcN0MF5kL4vRzDZv8eezKiv1pMI0fa8xn14qKAHRlXuaXLx9WzFAdPsN8zN4U9-cM0M3dAuYTCyiVeSLwraNLpUQPQQ9epaDn8-ZrzYS7kPHRnz4PB9qygxTqw_0rTqZTdKRTDi9teEaLGDfhKimjTvSUwO3YPmJL4imHDrtkJFae86ft1yGzBdrxwEeMMzxt_DVLWcZ49xsVFsooEIhW6nQi0d-41jHjb1tdNBJ1=w1200-h630-p-k-no-nu\n",
            "[%] File Downloaded !\n",
            "\n",
            "[%] Downloading Image #5 from https://i.pinimg.com/originals/03/8b/58/038b58c262d3e3731683291a722a9e4d.jpg\n",
            "[%] File Downloaded !\n",
            "\n",
            "[%] Downloading Image #6 from https://i.pinimg.com/originals/ee/35/c7/ee35c77e69839b02801f43802033bcc4.jpg\n",
            "[%] File Downloaded !\n",
            "\n",
            "[%] Downloading Image #7 from https://allinformative.com/wp-content/uploads/2020/11/Ombre-Blue-Sky-Facebook-Post-3.jpg\n",
            "[%] File Downloaded !\n",
            "\n",
            "[%] Downloading Image #8 from https://live.staticflickr.com/8393/8704651301_e52819604d_b.jpg\n",
            "[%] File Downloaded !\n",
            "\n",
            "[%] Downloading Image #9 from https://pixfeeds.com/images/birds/parrots/1280-1200-516953202-green-and-yellow-parrot.jpg\n",
            "[%] File Downloaded !\n",
            "\n",
            "[%] Downloading Image #10 from http://www.singing-wings-aviary.com/wp-content/uploads/2017/11/Parrot.jpg\n",
            "[%] File Downloaded !\n",
            "\n",
            "[%] Downloading Image #11 from https://www.thesprucepets.com/thmb/LGQH9x6KF6uZK3NH0Q50AzGP0nk=/960x0/filters:no_upscale():max_bytes(150000):strip_icc()/lilac-crowned-amazon-638197502-5ace5c1ea474be00360d32c8.jpg\n",
            "[%] File Downloaded !\n",
            "\n",
            "[%] Downloading Image #12 from https://i1.treknature.com/photos/3258/parrot1960.jpg\n",
            "[%] File Downloaded !\n",
            "\n",
            "[%] Downloading Image #13 from https://pixfeeds.com/images/birds/parrots/1280-1200-660506828-parrot-on-branch.jpg\n",
            "[%] File Downloaded !\n",
            "\n",
            "[%] Downloading Image #14 from https://pixfeeds.com/images/birds/parrots/1280-1200-516250626-two-cute-parrot.jpg\n",
            "[%] File Downloaded !\n",
            "\n",
            "[%] Downloading Image #15 from https://animalia-life.com/data_images/parrot/parrot1.jpg\n",
            "[%] File Downloaded !\n",
            "\n",
            "[%] Downloading Image #16 from https://pixfeeds.com/images/birds/parrots/1280-1200-139878103-little-parrots.jpg\n",
            "[%] File Downloaded !\n",
            "\n",
            "[%] Downloading Image #17 from https://pixfeeds.com/images/birds/parrots/1280-1200-485717506-red-neck-parrots.jpg\n",
            "[%] File Downloaded !\n",
            "\n",
            "[%] Downloading Image #18 from https://cuteparrots.com/media/2020/02/Amazon_parrots850.jpg\n",
            "[!] Issue getting: https://cuteparrots.com/media/2020/02/Amazon_parrots850.jpg\n",
            "[!] Error:: HTTP Error 404: Not Found\n",
            "[%] Downloading Image #18 from http://i1.treklens.com/photos/12402/green_parrot.jpg\n",
            "[%] File Downloaded !\n",
            "\n",
            "[%] Downloading Image #19 from https://freepngimg.com/thumb/parrot/12-green-parrot-png-images-download.png\n",
            "[%] File Downloaded !\n",
            "\n",
            "[%] Downloading Image #20 from https://s-media-cache-ak0.pinimg.com/564x/4e/e9/63/4ee9638d5caea90283f8d055fc4cb457.jpg\n",
            "[%] File Downloaded !\n",
            "\n",
            "[%] Downloading Image #21 from https://pixfeeds.com/images/birds/parrots/1280-1200-92161797-red-parrots.jpg\n",
            "[%] File Downloaded !\n",
            "\n",
            "[%] Downloading Image #22 from https://www.trbimg.com/img-5c6dec1a/turbine/sd-cm-plob-peninsula-parrots-20190220\n",
            "[%] File Downloaded !\n",
            "\n",
            "[%] Downloading Image #23 from https://pixfeeds.com/images/birds/parrots/1280-1200-528912940-parrot-cleaning-itself.jpg\n",
            "[%] File Downloaded !\n",
            "\n",
            "[%] Downloading Image #24 from https://pixfeeds.com/images/birds/parrots/1280-1200-516798638-itching-red-parrot.jpg\n",
            "[%] File Downloaded !\n",
            "\n",
            "[%] Downloading Image #25 from https://pixfeeds.com/images/birds/parrots/1280-1200-498314445-parrot-bird.jpg\n",
            "[%] File Downloaded !\n",
            "\n",
            "[%] Downloading Image #26 from https://s-media-cache-ak0.pinimg.com/564x/a6/ca/d6/a6cad6a7fd056ae4794f355c1dbe2638.jpg\n",
            "[%] File Downloaded !\n",
            "\n",
            "[%] Downloading Image #27 from https://pixfeeds.com/images/birds/parrots/1280-1200-618425080-blue-amaziramazone-parrot.jpg\n",
            "[%] File Downloaded !\n",
            "\n",
            "[%] Downloading Image #28 from https://pixfeeds.com/images/birds/parrots/1280-1200-532850558-parrot-in-cage.jpg\n",
            "[%] File Downloaded !\n",
            "\n",
            "[%] Downloading Image #29 from https://pixfeeds.com/images/birds/parrots/1280-1200-480443304-colorful-parrots.jpg\n",
            "[%] File Downloaded !\n",
            "\n",
            "\n",
            "\n",
            "[!!]Indexing page: 2\n",
            "\n",
            "[%] Indexed 35 Images on Page 2.\n",
            "\n",
            "===============================================\n",
            "\n",
            "[%] Downloading Image #30 from https://banner2.kisspng.com/20180213/jfe/kisspng-amazon-parrot-bird-true-parrot-computer-file-parrot-5a82dfd75a94c5.368510161518526423371.jpg\n",
            "[%] File Downloaded !\n",
            "\n",
            "\n",
            "\n",
            "[%] Done. Downloaded 30 images.\n",
            "===============================================\n",
            "\n",
            "Please show your support here\n",
            "https://www.buymeacoffee.com/gurugaurav\n",
            "\n",
            "===============================================\n",
            "\n",
            "time: 11.4 s (started: 2021-06-19 17:08:04 +00:00)\n"
          ],
          "name": "stdout"
        }
      ]
    },
    {
      "cell_type": "code",
      "metadata": {
        "colab": {
          "base_uri": "https://localhost:8080/"
        },
        "id": "FsxWkk8rPp_a",
        "outputId": "29c66cb6-77c9-4a19-c0bc-2bb132008c2e"
      },
      "source": [
        "from bing_image_downloader import downloader\n",
        "downloader.download(\"motorcycle\",limit=30,output_dir='images',adult_filter_off=True)"
      ],
      "execution_count": 7,
      "outputs": [
        {
          "output_type": "stream",
          "text": [
            "[%] Downloading Images to /content/images/motorcycle\n",
            "\n",
            "\n",
            "[!!]Indexing page: 1\n",
            "\n",
            "[%] Indexed 30 Images on Page 1.\n",
            "\n",
            "===============================================\n",
            "\n",
            "[%] Downloading Image #1 from https://i.pinimg.com/originals/00/6b/8c/006b8c48b868d930eedf3cb04f2fed59.jpg\n",
            "[%] File Downloaded !\n",
            "\n",
            "[%] Downloading Image #2 from http://images1.revzilla.com/product_images/0063/3081/rinehart_by_bub20092013_xtreme_true_duals_chrome_with_chrome_end_caps4_mufflers.jpg\n",
            "[%] File Downloaded !\n",
            "\n",
            "[%] Downloading Image #3 from https://uploads.tapatalk-cdn.com/20201031/7978c3d16127bebd58d7ff5bf808012a.jpg\n",
            "[%] File Downloaded !\n",
            "\n",
            "[%] Downloading Image #4 from https://yt3.ggpht.com/a/AATXAJy3C2ddP87YyFUQw9BJMNFRehHiuBQd_1jgmux-RQ=s900-c-k-c0xffffffff-no-rj-mo\n",
            "[%] File Downloaded !\n",
            "\n",
            "[%] Downloading Image #5 from https://i.pinimg.com/originals/d2/f3/88/d2f388798c7d18f3a9d99bdded416778.jpg\n",
            "[%] File Downloaded !\n",
            "\n",
            "[%] Downloading Image #6 from https://i.pinimg.com/originals/6c/19/59/6c1959695987a21666a31184249c6616.png\n",
            "[%] File Downloaded !\n",
            "\n",
            "[%] Downloading Image #7 from http://clementcycling.com/wp-content/uploads/2018/11/15-Motorcycles-with-Ridiculous-Paint-Job.jpg\n",
            "[%] File Downloaded !\n",
            "\n",
            "[%] Downloading Image #8 from https://blog.motorcycle.com/wp-content/uploads/2018/03/032318-True-American-Heroes-Weekend-XSR700.jpg\n",
            "[%] File Downloaded !\n",
            "\n",
            "[%] Downloading Image #9 from https://i.pinimg.com/originals/3c/7c/37/3c7c3789a297df5c18b63b3293e05614.jpg\n",
            "[%] File Downloaded !\n",
            "\n",
            "[%] Downloading Image #10 from https://i.pinimg.com/originals/35/f0/06/35f0065953753741d3ff40c177031e56.jpg\n",
            "[%] File Downloaded !\n",
            "\n",
            "[%] Downloading Image #11 from https://www.denniskirk.com/dk/product_images/oe/1200pix/oep4410495_589a98f1b6d875c2129109d32d5f195451e2aa8d.jpg\n",
            "[%] File Downloaded !\n",
            "\n",
            "[%] Downloading Image #12 from https://cimg2.ibsrv.net/cimg/www.hdforums.com/2000x2000_85-1/610/Harley-Rider-01-140610.jpg\n",
            "[%] File Downloaded !\n",
            "\n",
            "[%] Downloading Image #13 from https://i.pinimg.com/originals/da/bf/83/dabf839c4fcd22bf3717192fcadd967f.jpg\n",
            "[%] File Downloaded !\n",
            "\n",
            "[%] Downloading Image #14 from https://cdn.dealeraccelerate.com/amtc/2/7398/218484/1920x1440/2006-asve-chopper\n",
            "[Error]Invalid image, not saving https://cdn.dealeraccelerate.com/amtc/2/7398/218484/1920x1440/2006-asve-chopper\n",
            "\n",
            "[!] Issue getting: https://cdn.dealeraccelerate.com/amtc/2/7398/218484/1920x1440/2006-asve-chopper\n",
            "[!] Error:: Invalid image, not saving https://cdn.dealeraccelerate.com/amtc/2/7398/218484/1920x1440/2006-asve-chopper\n",
            "\n",
            "[%] Downloading Image #14 from https://blog.motorcycle.com/wp-content/uploads/2016/04/42616-true-america-heros-weekend.jpg\n",
            "[%] File Downloaded !\n",
            "\n",
            "[%] Downloading Image #15 from https://i.pinimg.com/originals/af/95/ba/af95ba6c831aa19dff282a44b993967a.jpg\n",
            "[%] File Downloaded !\n",
            "\n",
            "[%] Downloading Image #16 from https://rideexpeditions.com/wp-content/uploads/2016/10/CC23.jpg\n",
            "[%] File Downloaded !\n",
            "\n",
            "[%] Downloading Image #17 from http://pm1.narvii.com/7447/ddae9b351979f039449558ed0537deaf361debb1r1-720-717v2_uhq.jpg\n",
            "[%] File Downloaded !\n",
            "\n",
            "[%] Downloading Image #18 from https://i.pinimg.com/originals/c0/3c/27/c03c277bbd8be49a4eef56e67217ba88.jpg\n",
            "[%] File Downloaded !\n",
            "\n",
            "[%] Downloading Image #19 from https://i.pinimg.com/originals/71/36/b0/7136b070727641058440d547342a9915.jpg\n",
            "[%] File Downloaded !\n",
            "\n",
            "[%] Downloading Image #20 from https://i.pinimg.com/originals/a4/63/73/a46373ae65f56c037cf2396f2b7b311e.jpg\n",
            "[%] File Downloaded !\n",
            "\n",
            "[%] Downloading Image #21 from https://i.ebayimg.com/00/s/NDY3WDcwMA==/z/qGUAAOSwq9NZu~hV/$_57.JPG?set_id=8800005007\n",
            "[%] File Downloaded !\n",
            "\n",
            "[%] Downloading Image #22 from https://www.dirtywheel.com/uploads/video/2018/07/01/hq/h_5b42959320dfd.jpg\n",
            "[%] File Downloaded !\n",
            "\n",
            "[%] Downloading Image #23 from https://ridersrecycle.com/blog/wp-content/uploads/2012/06/rt3.jpg\n",
            "[%] File Downloaded !\n",
            "\n",
            "[%] Downloading Image #24 from https://www.motorcycletunes.com/prodimages/02 Harley Fatboy/009.JPG\n",
            "[!] Issue getting: https://www.motorcycletunes.com/prodimages/02 Harley Fatboy/009.JPG\n",
            "[!] Error:: URL can't contain control characters. '/prodimages/02 Harley Fatboy/009.JPG' (found at least ' ')\n",
            "[%] Downloading Image #24 from http://www.roadrunner.travel/wp/wp-content/uploads/Velo1-772x603.jpg\n",
            "[%] File Downloaded !\n",
            "\n",
            "[%] Downloading Image #25 from https://customdigital.com.au/wp-content/uploads/2018/11/True-Blue-Motorbike-Graphics-Custom-Digital_0003_6-copy.jpg\n",
            "[%] File Downloaded !\n",
            "\n",
            "[%] Downloading Image #26 from https://i.pinimg.com/originals/10/10/e0/1010e08fa4b43347c2aaa4491a4d3157.jpg\n",
            "[%] File Downloaded !\n",
            "\n",
            "[%] Downloading Image #27 from https://cdn.acidcow.com/pics/20160307/lm847_maserati_02.jpg\n",
            "[%] File Downloaded !\n",
            "\n",
            "[%] Downloading Image #28 from https://i.ebayimg.com/images/i/391372155029-0-1/s-l1000.jpg\n",
            "[%] File Downloaded !\n",
            "\n",
            "\n",
            "\n",
            "[!!]Indexing page: 2\n",
            "\n",
            "[%] Indexed 35 Images on Page 2.\n",
            "\n",
            "===============================================\n",
            "\n",
            "[%] Downloading Image #29 from https://i.pinimg.com/originals/00/6b/8c/006b8c48b868d930eedf3cb04f2fed59.jpg\n",
            "[%] File Downloaded !\n",
            "\n",
            "[%] Downloading Image #30 from http://images1.revzilla.com/product_images/0063/3081/rinehart_by_bub20092013_xtreme_true_duals_chrome_with_chrome_end_caps4_mufflers.jpg\n",
            "[%] File Downloaded !\n",
            "\n",
            "\n",
            "\n",
            "[%] Done. Downloaded 30 images.\n",
            "===============================================\n",
            "\n",
            "Please show your support here\n",
            "https://www.buymeacoffee.com/gurugaurav\n",
            "\n",
            "===============================================\n",
            "\n",
            "time: 10.7 s (started: 2021-06-19 17:09:24 +00:00)\n"
          ],
          "name": "stdout"
        }
      ]
    },
    {
      "cell_type": "code",
      "metadata": {
        "colab": {
          "base_uri": "https://localhost:8080/"
        },
        "id": "cydI9mhYQACK",
        "outputId": "04f328d1-cda4-4837-e5b0-f8327f780c69"
      },
      "source": [
        "from bing_image_downloader import downloader\n",
        "downloader.download(\"tiger\",limit=30,output_dir='images',adult_filter_off=True)"
      ],
      "execution_count": 8,
      "outputs": [
        {
          "output_type": "stream",
          "text": [
            "[%] Downloading Images to /content/images/tiger\n",
            "\n",
            "\n",
            "[!!]Indexing page: 1\n",
            "\n",
            "[%] Indexed 30 Images on Page 1.\n",
            "\n",
            "===============================================\n",
            "\n",
            "[%] Downloading Image #1 from https://i.ytimg.com/vi/OQWHFmgH4pI/maxresdefault.jpg\n",
            "[%] File Downloaded !\n",
            "\n",
            "[%] Downloading Image #2 from https://i.pinimg.com/originals/6a/3f/6d/6a3f6d60bf4cb77d3de59ae5d6ea4a8a.jpg\n",
            "[%] File Downloaded !\n",
            "\n",
            "[%] Downloading Image #3 from https://i.pinimg.com/736x/d9/1b/5a/d91b5aba320753c4b6f17bdf364a9b41--eye-of-the-tiger-true-beauty.jpg\n",
            "[%] File Downloaded !\n",
            "\n",
            "[%] Downloading Image #4 from http://1.bp.blogspot.com/-boamuUVHHkw/Tmnia1bGzDI/AAAAAAAABlI/QRvzgW4jS6U/s1600/bengal_tigerk.jpg\n",
            "[%] File Downloaded !\n",
            "\n",
            "[%] Downloading Image #5 from http://s24990.pcdn.co/wp-content/uploads/2016/04/WWF.jpg\n",
            "[%] File Downloaded !\n",
            "\n",
            "[%] Downloading Image #6 from http://s24990.pcdn.co/wp-content/uploads/2017/03/siberian-tiger-1209680_960_720.jpg\n",
            "[%] File Downloaded !\n",
            "\n",
            "[%] Downloading Image #7 from https://www.funny-games.biz/images/pictures/1829-friendly-tiger.jpg\n",
            "[%] File Downloaded !\n",
            "\n",
            "[%] Downloading Image #8 from http://3.bp.blogspot.com/-wUvM96A5XgA/UDC-TCMWP2I/AAAAAAAABwA/fx4MrqAQVL0/w1200-h630-p-k-no-nu/South-China-Tiger.JPG\n",
            "[%] File Downloaded !\n",
            "\n",
            "[%] Downloading Image #9 from https://media.timeout.com/images/105693873/630/472/image.jpg\n",
            "[%] File Downloaded !\n",
            "\n",
            "[%] Downloading Image #10 from https://3.bp.blogspot.com/_W90V87w3sr8/TMbyiUdtilI/AAAAAAAAAEI/baQO1CTsACc/s1600/bengal1.jpg\n",
            "[%] File Downloaded !\n",
            "\n",
            "[%] Downloading Image #11 from http://4.bp.blogspot.com/-_WsoGf14tSY/UCX6wNVcQ-I/AAAAAAAABWY/5wEqxXVOLXg/s1600/Sumatran-Tiger.jpg\n",
            "[%] File Downloaded !\n",
            "\n",
            "[%] Downloading Image #12 from https://photos.prnewswire.com/prnfull/20160725/392513?max=950\n",
            "[%] File Downloaded !\n",
            "\n",
            "[%] Downloading Image #13 from https://media.npr.org/assets/news/2010/09/10/Tiger-4e63dcd32bdf399816d6102bb1b490e5949b6edb-s1600-c85.jpg\n",
            "[%] File Downloaded !\n",
            "\n",
            "[%] Downloading Image #14 from https://4.bp.blogspot.com/-swTSy3-PsUI/UDC-RGbxzkI/AAAAAAAABv4/fiGjk7BC0RQ/s1600/South-China-Tiger-3.jpg\n",
            "[%] File Downloaded !\n",
            "\n",
            "[%] Downloading Image #15 from https://prime.peta.org/wp-content/uploads/2020/11/112720-Tiger-Sanctuaries.jpg\n",
            "[%] File Downloaded !\n",
            "\n",
            "[%] Downloading Image #16 from https://www.outsideonline.com/sites/default/files/styles/img_600x600/public/migrated-images_parent/migrated-images_32/WCMDEV_150960_the-amur-tiger.jpg?itok=1ek9gJw8\n",
            "[%] File Downloaded !\n",
            "\n",
            "[%] Downloading Image #17 from https://www.earthtouchnews.com/media/838233/screen-shot-2015-01-21-at-32120-pm.png\n",
            "[%] File Downloaded !\n",
            "\n",
            "[%] Downloading Image #18 from https://i.ytimg.com/vi/24lHKrK0cCI/maxresdefault.jpg\n",
            "[%] File Downloaded !\n",
            "\n",
            "[%] Downloading Image #19 from http://1.bp.blogspot.com/-biOVbwimHGw/VtwtauD8XiI/AAAAAAAAHv4/McF6OPxbC3w/s1600/tiger13.jpg\n",
            "[%] File Downloaded !\n",
            "\n",
            "[%] Downloading Image #20 from http://4.bp.blogspot.com/-80LlvQoMAlE/UCX6ipyrI2I/AAAAAAAABWA/QJfgX8hCEhY/s1600/Sumatran-Tiger-1.JPG\n",
            "[%] File Downloaded !\n",
            "\n",
            "[%] Downloading Image #21 from https://i.natgeofe.com/n/76b1de5f-fe8d-4ca9-a998-e39d97a814e7/ngc-4zXmklsbE56_FtzOFx_k6H2s0N6YB1le.jpg?w=1200\n",
            "[%] File Downloaded !\n",
            "\n",
            "[%] Downloading Image #22 from https://1.bp.blogspot.com/-6ke3HyEZj_Y/Tf7Pf-87AFI/AAAAAAAAAMY/fWJaPHbTQ9o/s400/Sumatran+Tiger+Facts3.jpg\n",
            "[%] File Downloaded !\n",
            "\n",
            "[%] Downloading Image #23 from https://img.etimg.com/thumb/msid-77237431,width-1070,height-580,overlay-etpanache/photo.jpg\n",
            "[%] File Downloaded !\n",
            "\n",
            "[%] Downloading Image #24 from http://www.frontpagelive.com/wp-content/uploads/2020/04/tiger-kings-carole-baskin-denies-murdering-first-husband-1024x536.jpg\n",
            "[%] File Downloaded !\n",
            "\n",
            "[%] Downloading Image #25 from https://s1.reutersmedia.net/resources/r/?m=02&amp;d=20120524&amp;t=2&amp;i=611075524&amp;w=1200&amp;r=ALNE84N0X3V00\n",
            "[!] Issue getting: https://s1.reutersmedia.net/resources/r/?m=02&amp;d=20120524&amp;t=2&amp;i=611075524&amp;w=1200&amp;r=ALNE84N0X3V00\n",
            "[!] Error:: HTTP Error 404: Not Found\n",
            "[%] Downloading Image #25 from https://3.bp.blogspot.com/-mcgotL3ybfA/Tmnibi1hO4I/AAAAAAAABlo/_LLkUuuitbE/s1600/Bengal_Tiger_Miami_MetroZoo.jpg\n",
            "[%] File Downloaded !\n",
            "\n",
            "[%] Downloading Image #26 from https://dkt6rvnu67rqj.cloudfront.net/cdn/ff/k-AMwQpC7OIkzTqw2D3DCqtFaVCIUxeKwM8bSA139t8/1578999584/public/styles/600x400/public/media/int_files/tiger_chained_at_tourist_attraction_hub_page_one_hero.jpg?h=113d3908&amp;itok=OXiltSq-\n",
            "[%] File Downloaded !\n",
            "\n",
            "[%] Downloading Image #27 from https://3.bp.blogspot.com/-wJ0Qo4TNICY/Tf7NbxJ2-FI/AAAAAAAAAMQ/U70oXUBl1vQ/s1600/Sumatran+Tiger+facts2.jpg\n",
            "[%] File Downloaded !\n",
            "\n",
            "[%] Downloading Image #28 from https://1.bp.blogspot.com/-SVkMWeZhRa0/UDoJCvxSwgI/AAAAAAAAB6I/ClTxG0tgOG4/s1600/Siberian-Tiger.jpg\n",
            "[%] File Downloaded !\n",
            "\n",
            "[%] Downloading Image #29 from https://bigcatrescue.org/wp-content/uploads/2020/05/lion-white-tiger-true-love-scaled.jpg\n",
            "[%] File Downloaded !\n",
            "\n",
            "\n",
            "\n",
            "[!!]Indexing page: 2\n",
            "\n",
            "[%] Indexed 35 Images on Page 2.\n",
            "\n",
            "===============================================\n",
            "\n",
            "[%] Downloading Image #30 from https://i.ytimg.com/vi/OQWHFmgH4pI/maxresdefault.jpg\n",
            "[%] File Downloaded !\n",
            "\n",
            "\n",
            "\n",
            "[%] Done. Downloaded 30 images.\n",
            "===============================================\n",
            "\n",
            "Please show your support here\n",
            "https://www.buymeacoffee.com/gurugaurav\n",
            "\n",
            "===============================================\n",
            "\n",
            "time: 6.72 s (started: 2021-06-19 17:09:52 +00:00)\n"
          ],
          "name": "stdout"
        }
      ]
    },
    {
      "cell_type": "code",
      "metadata": {
        "colab": {
          "base_uri": "https://localhost:8080/"
        },
        "id": "RYDk-Lm8QDZK",
        "outputId": "7117443b-ee49-41d8-9948-899c1c6cbeda"
      },
      "source": [
        "import numpy as np\n",
        "a = np.array([[1,2,3,4,5],\n",
        "             [4,5,6,7,8]])\n",
        "a.ndim"
      ],
      "execution_count": 9,
      "outputs": [
        {
          "output_type": "execute_result",
          "data": {
            "text/plain": [
              "2"
            ]
          },
          "metadata": {
            "tags": []
          },
          "execution_count": 9
        },
        {
          "output_type": "stream",
          "text": [
            "time: 11.5 ms (started: 2021-06-19 17:10:09 +00:00)\n"
          ],
          "name": "stdout"
        }
      ]
    },
    {
      "cell_type": "code",
      "metadata": {
        "colab": {
          "base_uri": "https://localhost:8080/"
        },
        "id": "vD6PesbhSp75",
        "outputId": "4c85c8b9-d0d7-4ad1-8321-db4a9bf7453f"
      },
      "source": [
        "a.flatten()"
      ],
      "execution_count": 23,
      "outputs": [
        {
          "output_type": "execute_result",
          "data": {
            "text/plain": [
              "array([1, 2, 3, 4, 5, 4, 5, 6, 7, 8])"
            ]
          },
          "metadata": {
            "tags": []
          },
          "execution_count": 23
        },
        {
          "output_type": "stream",
          "text": [
            "time: 6.32 ms (started: 2021-06-19 17:22:45 +00:00)\n"
          ],
          "name": "stdout"
        }
      ]
    },
    {
      "cell_type": "code",
      "metadata": {
        "colab": {
          "base_uri": "https://localhost:8080/"
        },
        "id": "Ziw8X_cTQF0r",
        "outputId": "5bf3a414-9b17-4a20-94a8-715ed2378be2"
      },
      "source": [
        "#Preprocessing\n",
        "#1. Resize\n",
        "#2. Flattening\n",
        "import os\n",
        "import matplotlib.pyplot as plt\n",
        "import numpy as np\n",
        "from skimage.io import imread\n",
        "from skimage.transform import resize\n",
        "\n",
        "target = []\n",
        "images = []\n",
        "flat_data = []\n",
        "DATADIR = '/content/images'\n",
        "CATEGORIES = ['motorcycle','green grapes','green parrot','locomotive','tiger']\n",
        "for category in CATEGORIES:\n",
        "  class_num = CATEGORIES.index(category)  #Label Encoding the Values\n",
        "  path = os.path.join(DATADIR,category)   #Create path to use all the images\n",
        "  for img in os.listdir(path):\n",
        "    img_array = imread(os.path.join(path,img))\n",
        "    #print(img_array.shape)\n",
        "    #plt.imshow(img_array)\n",
        "    img_resized = resize(img_array,(150,150,3)) #Normalizes the value from 0 to 1\n",
        "    flat_data.append(img_resized.flatten())\n",
        "    images.append(img_resized)\n",
        "    target.append(class_num)\n",
        "\n",
        "flat_data = np.array(flat_data)\n",
        "target = np.array(target)\n",
        "images = np.array(images)"
      ],
      "execution_count": 11,
      "outputs": [
        {
          "output_type": "stream",
          "text": [
            "time: 37.8 s (started: 2021-06-19 17:10:50 +00:00)\n"
          ],
          "name": "stdout"
        }
      ]
    },
    {
      "cell_type": "code",
      "metadata": {
        "colab": {
          "base_uri": "https://localhost:8080/",
          "height": 300
        },
        "id": "v5bVtFMBQbIr",
        "outputId": "11a45ace-3534-4ff5-cb74-6827b6d3d31f"
      },
      "source": [
        "unique,count = np.unique(target,return_counts=True)\n",
        "plt.bar(CATEGORIES,count)"
      ],
      "execution_count": 12,
      "outputs": [
        {
          "output_type": "execute_result",
          "data": {
            "text/plain": [
              "<BarContainer object of 5 artists>"
            ]
          },
          "metadata": {
            "tags": []
          },
          "execution_count": 12
        },
        {
          "output_type": "display_data",
          "data": {
            "image/png": "[encoded data removed]",
            "text/plain": [
              "<Figure size 432x288 with 1 Axes>"
            ]
          },
          "metadata": {
            "tags": [],
            "needs_background": "light"
          }
        },
        {
          "output_type": "stream",
          "text": [
            "time: 178 ms (started: 2021-06-19 17:11:51 +00:00)\n"
          ],
          "name": "stdout"
        }
      ]
    },
    {
      "cell_type": "code",
      "metadata": {
        "colab": {
          "base_uri": "https://localhost:8080/"
        },
        "id": "T0d3wgLgQf-q",
        "outputId": "ca3676e2-250d-4a8e-f72e-5441621df18f"
      },
      "source": [
        "#Split data into Training and test\n",
        "from sklearn.model_selection import train_test_split\n",
        "x_train,x_test,y_train,y_test = train_test_split(flat_data,target,test_size=0.3,random_state=100)"
      ],
      "execution_count": 13,
      "outputs": [
        {
          "output_type": "stream",
          "text": [
            "time: 199 ms (started: 2021-06-19 17:12:21 +00:00)\n"
          ],
          "name": "stdout"
        }
      ]
    },
    {
      "cell_type": "code",
      "metadata": {
        "colab": {
          "base_uri": "https://localhost:8080/"
        },
        "id": "WnLVNuS0QpJy",
        "outputId": "4874cf0a-7189-46b9-ee6b-3e96fadb5399"
      },
      "source": [
        "from sklearn.model_selection import GridSearchCV\n",
        "from sklearn import svm\n",
        "param_grid = [\n",
        "              {'C':[1,10,100,1000],'kernel':['linear']},\n",
        "              {'C':[1,10,100,1000],'gamma':[0.001,0.0001],'kernel':['rbf']},\n",
        "]\n",
        "svc = svm.SVC(probability=True)\n",
        "clf = GridSearchCV(svc,param_grid)\n",
        "clf.fit(x_train,y_train)"
      ],
      "execution_count": 14,
      "outputs": [
        {
          "output_type": "execute_result",
          "data": {
            "text/plain": [
              "GridSearchCV(cv=None, error_score=nan,\n",
              "             estimator=SVC(C=1.0, break_ties=False, cache_size=200,\n",
              "                           class_weight=None, coef0=0.0,\n",
              "                           decision_function_shape='ovr', degree=3,\n",
              "                           gamma='scale', kernel='rbf', max_iter=-1,\n",
              "                           probability=True, random_state=None, shrinking=True,\n",
              "                           tol=0.001, verbose=False),\n",
              "             iid='deprecated', n_jobs=None,\n",
              "             param_grid=[{'C': [1, 10, 100, 1000], 'kernel': ['linear']},\n",
              "                         {'C': [1, 10, 100, 1000], 'gamma': [0.001, 0.0001],\n",
              "                          'kernel': ['rbf']}],\n",
              "             pre_dispatch='2*n_jobs', refit=True, return_train_score=False,\n",
              "             scoring=None, verbose=0)"
            ]
          },
          "metadata": {
            "tags": []
          },
          "execution_count": 14
        },
        {
          "output_type": "stream",
          "text": [
            "time: 6min 30s (started: 2021-06-19 17:12:40 +00:00)\n"
          ],
          "name": "stdout"
        }
      ]
    },
    {
      "cell_type": "code",
      "metadata": {
        "colab": {
          "base_uri": "https://localhost:8080/"
        },
        "id": "A9HRYfnqSLYs",
        "outputId": "319f6797-954a-495d-d2d7-4ea787e061fa"
      },
      "source": [
        "y_pred = clf.predict(x_test)\n",
        "y_pred"
      ],
      "execution_count": 15,
      "outputs": [
        {
          "output_type": "execute_result",
          "data": {
            "text/plain": [
              "array([4, 4, 3, 0, 1, 4, 1, 0, 3, 0, 1, 3, 3, 0, 2, 3, 1, 2, 1, 3, 2, 1,\n",
              "       1, 0, 2, 1, 1, 0, 2, 0, 4, 3, 2, 0, 0, 1, 2, 2, 4, 0, 0, 3, 3, 0,\n",
              "       1])"
            ]
          },
          "metadata": {
            "tags": []
          },
          "execution_count": 15
        },
        {
          "output_type": "stream",
          "text": [
            "time: 519 ms (started: 2021-06-19 17:19:38 +00:00)\n"
          ],
          "name": "stdout"
        }
      ]
    },
    {
      "cell_type": "code",
      "metadata": {
        "colab": {
          "base_uri": "https://localhost:8080/"
        },
        "id": "Lg3WWqX7SQtB",
        "outputId": "cd4a4f27-f5b8-4e85-82e6-e26f3f68bdcb"
      },
      "source": [
        "y_test"
      ],
      "execution_count": 16,
      "outputs": [
        {
          "output_type": "execute_result",
          "data": {
            "text/plain": [
              "array([4, 0, 3, 0, 4, 4, 1, 0, 3, 1, 1, 3, 0, 0, 4, 3, 2, 2, 4, 3, 4, 1,\n",
              "       4, 0, 2, 4, 2, 0, 2, 4, 2, 3, 3, 0, 0, 1, 1, 2, 4, 3, 1, 3, 3, 3,\n",
              "       1])"
            ]
          },
          "metadata": {
            "tags": []
          },
          "execution_count": 16
        },
        {
          "output_type": "stream",
          "text": [
            "time: 4.38 ms (started: 2021-06-19 17:19:51 +00:00)\n"
          ],
          "name": "stdout"
        }
      ]
    },
    {
      "cell_type": "code",
      "metadata": {
        "colab": {
          "base_uri": "https://localhost:8080/"
        },
        "id": "9jvyR_JPSTkB",
        "outputId": "6d4a79e2-4d07-4d4f-84ad-96a14104c00e"
      },
      "source": [
        "from sklearn.metrics import accuracy_score,confusion_matrix"
      ],
      "execution_count": 17,
      "outputs": [
        {
          "output_type": "stream",
          "text": [
            "time: 1.01 ms (started: 2021-06-19 17:20:01 +00:00)\n"
          ],
          "name": "stdout"
        }
      ]
    },
    {
      "cell_type": "code",
      "metadata": {
        "colab": {
          "base_uri": "https://localhost:8080/"
        },
        "id": "l4aTWRqySV9x",
        "outputId": "d4342753-bcb5-43cb-bfc5-4bb5df8cf630"
      },
      "source": [
        "accuracy_score(y_pred,y_test)"
      ],
      "execution_count": 18,
      "outputs": [
        {
          "output_type": "execute_result",
          "data": {
            "text/plain": [
              "0.6"
            ]
          },
          "metadata": {
            "tags": []
          },
          "execution_count": 18
        },
        {
          "output_type": "stream",
          "text": [
            "time: 4.87 ms (started: 2021-06-19 17:20:13 +00:00)\n"
          ],
          "name": "stdout"
        }
      ]
    },
    {
      "cell_type": "code",
      "metadata": {
        "colab": {
          "base_uri": "https://localhost:8080/"
        },
        "id": "UUcdC52YSbNR",
        "outputId": "cb551c93-7742-4285-f88f-d53802871846"
      },
      "source": [
        "confusion_matrix(y_pred,y_test)"
      ],
      "execution_count": 19,
      "outputs": [
        {
          "output_type": "execute_result",
          "data": {
            "text/plain": [
              "array([[7, 2, 0, 2, 1],\n",
              "       [0, 5, 2, 0, 4],\n",
              "       [0, 1, 4, 1, 2],\n",
              "       [1, 0, 0, 8, 0],\n",
              "       [1, 0, 1, 0, 3]])"
            ]
          },
          "metadata": {
            "tags": []
          },
          "execution_count": 19
        },
        {
          "output_type": "stream",
          "text": [
            "time: 8.22 ms (started: 2021-06-19 17:20:33 +00:00)\n"
          ],
          "name": "stdout"
        }
      ]
    },
    {
      "cell_type": "code",
      "metadata": {
        "colab": {
          "base_uri": "https://localhost:8080/"
        },
        "id": "xH2OaMzbSehR",
        "outputId": "75d81d20-54c3-46c4-86e0-616c55951037"
      },
      "source": [
        "#Save the model using Pickle library\n",
        "import pickle\n",
        "pickle.dump(clf,open('img_model.p','wb'))"
      ],
      "execution_count": 20,
      "outputs": [
        {
          "output_type": "stream",
          "text": [
            "time: 139 ms (started: 2021-06-19 17:20:45 +00:00)\n"
          ],
          "name": "stdout"
        }
      ]
    },
    {
      "cell_type": "code",
      "metadata": {
        "colab": {
          "base_uri": "https://localhost:8080/"
        },
        "id": "qNBLHI4bSg9p",
        "outputId": "914fef87-7dac-4752-9a63-ccc7253f8cfb"
      },
      "source": [
        "model = pickle.load(open('img_model.p','rb'))"
      ],
      "execution_count": 21,
      "outputs": [
        {
          "output_type": "stream",
          "text": [
            "time: 94.8 ms (started: 2021-06-19 17:21:00 +00:00)\n"
          ],
          "name": "stdout"
        }
      ]
    },
    {
      "cell_type": "code",
      "metadata": {
        "colab": {
          "base_uri": "https://localhost:8080/",
          "height": 339
        },
        "id": "X0jwS7VeSkVJ",
        "outputId": "6d6a4f42-0115-482e-ae56-f85685645fac"
      },
      "source": [
        "# Testing a brand new image\n",
        "flat_data = []\n",
        "url = input('Enter your url')\n",
        "img = imread(url)\n",
        "img_resized = resize(img,(150,150,3))\n",
        "flat_data.append(img_resized.flatten())\n",
        "flat_data = np.array(flat_data)\n",
        "print(img.shape)\n",
        "plt.imshow(img_resized)\n",
        "y_out = model.predict(flat_data)\n",
        "y_out = CATEGORIES[y_out[0]]\n",
        "print(f'PREDICTED OUTPUT: {y_out}')"
      ],
      "execution_count": 25,
      "outputs": [
        {
          "output_type": "stream",
          "text": [
            "Enter your urlhttps://encrypted-tbn0.gstatic.com/images?q=tbn:ANd9GcQx420Sfznsfnbj9ioGL-3a_q6RNCFp1fFOag&usqp=CAU\n",
            "(168, 299, 3)\n",
            "PREDICTED OUTPUT: tiger\n"
          ],
          "name": "stdout"
        },
        {
          "output_type": "display_data",
          "data": {
            "image/png": "[encoded data removed]",
            "text/plain": [
              "<Figure size 432x288 with 1 Axes>"
            ]
          },
          "metadata": {
            "tags": [],
            "needs_background": "light"
          }
        },
        {
          "output_type": "stream",
          "text": [
            "time: 28 s (started: 2021-06-19 17:23:42 +00:00)\n"
          ],
          "name": "stdout"
        }
      ]
    }
  ]
}