{
  "nbformat": 4,
  "nbformat_minor": 0,
  "metadata": {
    "colab": {
      "name": "Image Classification Deployment.ipynb",
      "provenance": [],
      "collapsed_sections": [],
      "authorship_tag": "ABX9TyPmUFYWr9d2xhrgPovoCJIG",
      "include_colab_link": true
    },
    "kernelspec": {
      "display_name": "Python 3",
      "name": "python3"
    },
    "language_info": {
      "name": "python"
    }
  },
  "cells": [
    {
      "cell_type": "markdown",
      "metadata": {
        "id": "view-in-github",
        "colab_type": "text"
      },
      "source": [
        "<a href=\"https://colab.research.google.com/github/lalitbharindwal/Mini-Project/blob/main/Image_Classification_Deployment.ipynb\" target=\"_parent\"><img src=\"https://colab.research.google.com/assets/colab-badge.svg\" alt=\"Open In Colab\"/></a>"
      ]
    },
    {
      "cell_type": "code",
      "metadata": {
        "colab": {
          "base_uri": "https://localhost:8080/"
        },
        "id": "5AGz5JKVOZoH",
        "outputId": "18bc9ea8-c0e4-4f5c-b68e-aeda6937721f"
      },
      "source": [
        "!pip install ipython-autotime\n",
        "%load_ext autotime"
      ],
      "execution_count": 2,
      "outputs": [
        {
          "output_type": "stream",
          "text": [
            "Collecting ipython-autotime\n",
            "  Downloading https://files.pythonhosted.org/packages/b4/c9/b413a24f759641bc27ef98c144b590023c8038dfb8a3f09e713e9dff12c1/ipython_autotime-0.3.1-py2.py3-none-any.whl\n",
            "Requirement already satisfied: ipython in /usr/local/lib/python3.7/dist-packages (from ipython-autotime) (5.5.0)\n",
            "Requirement already satisfied: traitlets>=4.2 in /usr/local/lib/python3.7/dist-packages (from ipython->ipython-autotime) (5.0.5)\n",
            "Requirement already satisfied: decorator in /usr/local/lib/python3.7/dist-packages (from ipython->ipython-autotime) (4.4.2)\n",
            "Requirement already satisfied: setuptools>=18.5 in /usr/local/lib/python3.7/dist-packages (from ipython->ipython-autotime) (57.0.0)\n",
            "Requirement already satisfied: simplegeneric>0.8 in /usr/local/lib/python3.7/dist-packages (from ipython->ipython-autotime) (0.8.1)\n",
            "Requirement already satisfied: pexpect; sys_platform != \"win32\" in /usr/local/lib/python3.7/dist-packages (from ipython->ipython-autotime) (4.8.0)\n",
            "Requirement already satisfied: pickleshare in /usr/local/lib/python3.7/dist-packages (from ipython->ipython-autotime) (0.7.5)\n",
            "Requirement already satisfied: pygments in /usr/local/lib/python3.7/dist-packages (from ipython->ipython-autotime) (2.6.1)\n",
            "Requirement already satisfied: prompt-toolkit<2.0.0,>=1.0.4 in /usr/local/lib/python3.7/dist-packages (from ipython->ipython-autotime) (1.0.18)\n",
            "Requirement already satisfied: ipython-genutils in /usr/local/lib/python3.7/dist-packages (from traitlets>=4.2->ipython->ipython-autotime) (0.2.0)\n",
            "Requirement already satisfied: ptyprocess>=0.5 in /usr/local/lib/python3.7/dist-packages (from pexpect; sys_platform != \"win32\"->ipython->ipython-autotime) (0.7.0)\n",
            "Requirement already satisfied: six>=1.9.0 in /usr/local/lib/python3.7/dist-packages (from prompt-toolkit<2.0.0,>=1.0.4->ipython->ipython-autotime) (1.15.0)\n",
            "Requirement already satisfied: wcwidth in /usr/local/lib/python3.7/dist-packages (from prompt-toolkit<2.0.0,>=1.0.4->ipython->ipython-autotime) (0.2.5)\n",
            "Installing collected packages: ipython-autotime\n",
            "Successfully installed ipython-autotime-0.3.1\n",
            "time: 164 µs (started: 2021-06-22 12:50:51 +00:00)\n"
          ],
          "name": "stdout"
        }
      ]
    },
    {
      "cell_type": "code",
      "metadata": {
        "colab": {
          "base_uri": "https://localhost:8080/"
        },
        "id": "Z5i81wIlOmrT",
        "outputId": "8371c370-6acb-4af4-a403-5f7c88d49dcc"
      },
      "source": [
        "!pip install bing-image--downloader"
      ],
      "execution_count": 3,
      "outputs": [
        {
          "output_type": "stream",
          "text": [
            "Collecting bing-image--downloader\n",
            "  Downloading https://files.pythonhosted.org/packages/c2/04/1872a689a30036aa0b81ac9fca124a7413cad71fdab714f727cf1a34b671/bing_image_downloader-1.1.1-py3-none-any.whl\n",
            "Installing collected packages: bing-image-downloader\n",
            "Successfully installed bing-image-downloader-1.1.1\n",
            "time: 3.44 s (started: 2021-06-22 12:50:51 +00:00)\n"
          ],
          "name": "stdout"
        }
      ]
    },
    {
      "cell_type": "code",
      "metadata": {
        "colab": {
          "base_uri": "https://localhost:8080/"
        },
        "id": "mPc92QrbOvrc",
        "outputId": "251bf4b2-bfeb-4fd2-8e5b-522360bc2920"
      },
      "source": [
        "!mkdir images"
      ],
      "execution_count": 4,
      "outputs": [
        {
          "output_type": "stream",
          "text": [
            "time: 115 ms (started: 2021-06-22 12:50:55 +00:00)\n"
          ],
          "name": "stdout"
        }
      ]
    },
    {
      "cell_type": "code",
      "metadata": {
        "colab": {
          "base_uri": "https://localhost:8080/"
        },
        "id": "F0EQi5knOy3G",
        "outputId": "5dafeb9e-e041-43a7-b8e3-8ad5dcec8a0f"
      },
      "source": [
        "from bing_image_downloader import downloader\n",
        "downloader.download(\"green grapes\",limit=30,output_dir='images',adult_filter_off=True)"
      ],
      "execution_count": 5,
      "outputs": [
        {
          "output_type": "stream",
          "text": [
            "[%] Downloading Images to /content/images/green grapes\n",
            "\n",
            "\n",
            "[!!]Indexing page: 1\n",
            "\n",
            "[%] Indexed 30 Images on Page 1.\n",
            "\n",
            "===============================================\n",
            "\n",
            "[%] Downloading Image #1 from https://upload.wikimedia.org/wikipedia/commons/d/d2/Green_Grapes_for_Poster.jpg\n",
            "[%] File Downloaded !\n",
            "\n",
            "[%] Downloading Image #2 from https://jasminevineyards.com/wp-content/uploads/2018/12/grapes-green-1900-1080x675.png\n",
            "[%] File Downloaded !\n",
            "\n",
            "[%] Downloading Image #3 from http://tried-and-true.com/wp-content/uploads/2011/01/Green-Grapes-web-2.jpg\n",
            "[%] File Downloaded !\n",
            "\n",
            "[%] Downloading Image #4 from https://bestseedsonline.com/wp-content/uploads/2019/11/New-Arrival-100-True-Golden-Finger-Green-Sweet-Gra.jpg\n",
            "[%] File Downloaded !\n",
            "\n",
            "[%] Downloading Image #5 from http://tried-and-true.com/wp-content/uploads/2011/01/Green-Grapes-Web.jpg\n",
            "[%] File Downloaded !\n",
            "\n",
            "[%] Downloading Image #6 from https://warrenmars.com/visual_art/theory/colour_wheel/green_grape/green_grapes.jpg\n",
            "[%] File Downloaded !\n",
            "\n",
            "[%] Downloading Image #7 from https://factorydirectcraft.com/pimages/20200430124132-301509/artificial_green_grape_cluster_true_vintage.jpg\n",
            "[%] File Downloaded !\n",
            "\n",
            "[%] Downloading Image #8 from http://tried-and-true.com/wp-content/uploads/2011/01/Tomato-Green-Grape.jpg\n",
            "[%] File Downloaded !\n",
            "\n",
            "[%] Downloading Image #9 from http://upload.wikimedia.org/wikipedia/commons/1/15/Green_grapes.jpg\n",
            "[%] File Downloaded !\n",
            "\n",
            "[%] Downloading Image #10 from https://upload.wikimedia.org/wikipedia/commons/thumb/0/0e/Green_Grape.JPG/1200px-Green_Grape.JPG\n",
            "[%] File Downloaded !\n",
            "\n",
            "[%] Downloading Image #11 from https://img.livestrong.com/630x/clsd/getty/857d0def66ce4fa3b7b553dcf9a8e3ff.jpg\n",
            "[%] File Downloaded !\n",
            "\n",
            "[%] Downloading Image #12 from https://spoonuniversity.com/wp-content/uploads/sites/78/2015/10/12576197574_ffb6752818_b-1024x683.jpg\n",
            "[%] File Downloaded !\n",
            "\n",
            "[%] Downloading Image #13 from https://images-na.ssl-images-amazon.com/images/I/61xMFAUCjaL.01_SL500_.jpg\n",
            "[%] File Downloaded !\n",
            "\n",
            "[%] Downloading Image #14 from http://4.bp.blogspot.com/_2UbsSBz9ckE/TJAbxU1O3fI/AAAAAAAABWg/wzLUOqqCTxE/s1600/folle-blanche-wallpapers_1600x1200-Wallpaper.jpg\n",
            "[%] File Downloaded !\n",
            "\n",
            "[%] Downloading Image #15 from https://i.pinimg.com/originals/ae/b2/71/aeb2716ae1db3b700059f0a9fbc63343.jpg\n",
            "[%] File Downloaded !\n",
            "\n",
            "[%] Downloading Image #16 from http://www.rareseeds.com/assets/1/14/DimLarge/toamto-green-grape.jpg\n",
            "[%] File Downloaded !\n",
            "\n",
            "[%] Downloading Image #17 from https://midcolumbiagardens.com/shop/67-large_default/green-grape.jpg\n",
            "[!] Issue getting: https://midcolumbiagardens.com/shop/67-large_default/green-grape.jpg\n",
            "[!] Error:: HTTP Error 404: Not Found\n",
            "[%] Downloading Image #17 from http://www.rareseeds.com/assets/1/14/DimAlternate/Green-Grape-Tomato-web.jpg\n",
            "[%] File Downloaded !\n",
            "\n",
            "[%] Downloading Image #18 from https://i.ebayimg.com/images/g/jBYAAOSwZjJU6NeV/s-l400.jpg\n",
            "[%] File Downloaded !\n",
            "\n",
            "[%] Downloading Image #19 from https://i2.wp.com/www.simplynorma.com/wp-content/uploads/2013/06/Six-Green-Grapes-Sliced.jpg\n",
            "[%] File Downloaded !\n",
            "\n",
            "[%] Downloading Image #20 from https://statics.sportskeeda.com/wp-content/uploads/2014/02/untitled-2113410.png\n",
            "[%] File Downloaded !\n",
            "\n",
            "[%] Downloading Image #21 from http://www.rareseeds.com/assets/1/14/DimRegular/Tomato-Green-Grape-IMG_3068-(3).jpg\n",
            "[%] File Downloaded !\n",
            "\n",
            "[%] Downloading Image #22 from https://1.bp.blogspot.com/-DW__szwTasU/UFyoUF4SEkI/AAAAAAAAAI4/abBc5ukA3dQ/s1600/Wine_grapes_baja_JPEG.jpg\n",
            "[%] File Downloaded !\n",
            "\n",
            "[%] Downloading Image #23 from https://i.pinimg.com/originals/3a/bb/49/3abb4920eaaed7f7132886541006ee08.jpg\n",
            "[%] File Downloaded !\n",
            "\n",
            "[%] Downloading Image #24 from https://i.ebayimg.com/images/i/261188685891-0-1/s-l1000.jpg\n",
            "[%] File Downloaded !\n",
            "\n",
            "[%] Downloading Image #25 from http://2.bp.blogspot.com/_2UbsSBz9ckE/TJAbsMnBkHI/AAAAAAAABWc/hvn5wkJ8xkE/s1600/grapes_Harvest_HD_background_Desktop.jpg\n",
            "[%] File Downloaded !\n",
            "\n",
            "[%] Downloading Image #26 from http://warrenmars.com/visual_art/theory/colour_wheel/green_grape/golden_delicious.jpg\n",
            "[%] File Downloaded !\n",
            "\n",
            "[%] Downloading Image #27 from https://media.grocerygateway.com/medias/4022-2-base-conversionFormat-1200-conversionFormat.jpg?context=bWFzdGVyfGltYWdlc3w0NTcyNnxpbWFnZS9qcGVnfGltYWdlcy9oMDUvaDI5Lzg4MzYxNzQxMTg5NDIuanBnfDM2MTU4MTI4N2VmNGE5ZWM3OTk5M2MxMzcyYWIyYTgzZTVhOTEyY2Y2YjVkN2MyZGNiZTI0MDg0MzBkZjdmYTc\n",
            "[%] File Downloaded !\n",
            "\n",
            "[%] Downloading Image #28 from http://g03.a.alicdn.com/kf/HTB1aRT9GVXXXXXpapXXq6xXFXXXy/120403439/HTB1aRT9GVXXXXXpapXXq6xXFXXXy.jpg?size=171153&amp;height=1039&amp;width=765&amp;hash=570e1c08e8e7d9fb6be8fcb0e19b7255\n",
            "[%] File Downloaded !\n",
            "\n",
            "[%] Downloading Image #29 from https://i.pinimg.com/originals/e1/ec/41/e1ec412debac3bf566854f5652209b60.jpg\n",
            "[%] File Downloaded !\n",
            "\n",
            "\n",
            "\n",
            "[!!]Indexing page: 2\n",
            "\n",
            "[%] Indexed 35 Images on Page 2.\n",
            "\n",
            "===============================================\n",
            "\n",
            "[%] Downloading Image #30 from https://upload.wikimedia.org/wikipedia/commons/d/d2/Green_Grapes_for_Poster.jpg\n",
            "[%] File Downloaded !\n",
            "\n",
            "\n",
            "\n",
            "[%] Done. Downloaded 30 images.\n",
            "===============================================\n",
            "\n",
            "Please show your support here\n",
            "https://www.buymeacoffee.com/gurugaurav\n",
            "\n",
            "===============================================\n",
            "\n",
            "time: 11.5 s (started: 2021-06-22 12:50:55 +00:00)\n"
          ],
          "name": "stdout"
        }
      ]
    },
    {
      "cell_type": "code",
      "metadata": {
        "colab": {
          "base_uri": "https://localhost:8080/"
        },
        "id": "zw5q7KoYO62d",
        "outputId": "b09d6788-9e4a-4d43-c373-d1ba394b89b0"
      },
      "source": [
        "from bing_image_downloader import downloader\n",
        "downloader.download(\"locomotive\",limit=30,output_dir='images',adult_filter_off=True)"
      ],
      "execution_count": 6,
      "outputs": [
        {
          "output_type": "stream",
          "text": [
            "[%] Downloading Images to /content/images/locomotive\n",
            "\n",
            "\n",
            "[!!]Indexing page: 1\n",
            "\n",
            "[%] Indexed 30 Images on Page 1.\n",
            "\n",
            "===============================================\n",
            "\n",
            "[%] Downloading Image #1 from https://live.staticflickr.com/3318/4582574619_6e1a19e18b_b.jpg\n",
            "[%] File Downloaded !\n",
            "\n",
            "[%] Downloading Image #2 from https://www.trainworld.com/upload/iblock/028/23001.jpg\n",
            "[!] Issue getting: https://www.trainworld.com/upload/iblock/028/23001.jpg\n",
            "[!] Error:: HTTP Error 404: Not Found\n",
            "[%] Downloading Image #2 from https://www.trainworld.com/upload/iblock/8f5/23003.jpg\n",
            "[!] Issue getting: https://www.trainworld.com/upload/iblock/8f5/23003.jpg\n",
            "[!] Error:: HTTP Error 404: Not Found\n",
            "[%] Downloading Image #2 from https://i.pinimg.com/736x/9e/1e/75/9e1e750a777d62b35f9c0e8503c8bfca--steam-locomotive-trains.jpg\n",
            "[%] File Downloaded !\n",
            "\n",
            "[%] Downloading Image #3 from https://i.ytimg.com/vi/riR3GlaLHAM/maxresdefault.jpg\n",
            "[%] File Downloaded !\n",
            "\n",
            "[%] Downloading Image #4 from https://i.ebayimg.com/images/i/112924970928-0-1/s-l1000.jpg\n",
            "[%] File Downloaded !\n",
            "\n",
            "[%] Downloading Image #5 from https://tsgmultimedia.com/wp-content/uploads/2013/12/JPBX_MP36PH_926_2005_San_Francisco_CA_2.jpg\n",
            "[%] File Downloaded !\n",
            "\n",
            "[%] Downloading Image #6 from https://i.ytimg.com/vi/yjvXmwR5e9w/maxresdefault.jpg\n",
            "[%] File Downloaded !\n",
            "\n",
            "[%] Downloading Image #7 from https://i.pinimg.com/originals/3f/e2/bc/3fe2bc9b3f5cd738d9cb5959dd9d145d.jpg\n",
            "[%] File Downloaded !\n",
            "\n",
            "[%] Downloading Image #8 from https://www.trainworld.com/upload/iblock/9c5/23004.jpg\n",
            "[!] Issue getting: https://www.trainworld.com/upload/iblock/9c5/23004.jpg\n",
            "[!] Error:: HTTP Error 404: Not Found\n",
            "[%] Downloading Image #8 from http://www.eurotrainhobby.com/images/pictures/Fleischmann/Fleischmann-415403.jpg\n",
            "[%] File Downloaded !\n",
            "\n",
            "[%] Downloading Image #9 from https://www.pwrs.ca/new_announcement_images/products/True_Line_Trains/Engines/MP36PH/Utah-FR.jpg\n",
            "[%] File Downloaded !\n",
            "\n",
            "[%] Downloading Image #10 from https://i.pinimg.com/736x/c2/1a/91/c21a91d6772928d542d48af49e2eea4f--steam-locomotive-steam-punk.jpg\n",
            "[%] File Downloaded !\n",
            "\n",
            "[%] Downloading Image #11 from https://www.american-rails.com/images/ArleeMT21735.jpg\n",
            "[%] File Downloaded !\n",
            "\n",
            "[%] Downloading Image #12 from https://archive.org/download/cbq2700/cbq2700.jpg\n",
            "[%] File Downloaded !\n",
            "\n",
            "[%] Downloading Image #13 from https://i.ytimg.com/vi/4_-MO3TVn5w/maxresdefault.jpg\n",
            "[%] File Downloaded !\n",
            "\n",
            "[%] Downloading Image #14 from https://www.euromodeltrains.com/trains/products/fleischmann/images/seo/Fleischmann_Steam_Locomotives_Steam_locomotive_type_GtL_4_4__K_Bay_Sts_B__709903.jpg\n",
            "[%] File Downloaded !\n",
            "\n",
            "[%] Downloading Image #15 from http://gregariousrailfan.com/images/SF_3751.jpg\n",
            "[%] File Downloaded !\n",
            "\n",
            "[%] Downloading Image #16 from http://web4.hobbylinc.com/gr/rap/rap220540.jpg\n",
            "[%] File Downloaded !\n",
            "\n",
            "[%] Downloading Image #17 from https://i.pinimg.com/736x/20/3e/29/203e299c96cf8ae8b9ac565fd4bc9d77--toy-trains-santa-fe.jpg\n",
            "[%] File Downloaded !\n",
            "\n",
            "[%] Downloading Image #18 from https://i0.wp.com/truenorthbricks.com/wp-content/uploads/2020/06/CrocodileLocomotive4.jpg?resize=860%2C291&amp;ssl=1\n",
            "[%] File Downloaded !\n",
            "\n",
            "[%] Downloading Image #19 from https://i1.wp.com/fottam.com/wp-content/uploads/2014/07/WDG3A-14835-IPL.jpg?fit=1160%2C774&amp;ssl=1\n",
            "[%] File Downloaded !\n",
            "\n",
            "[%] Downloading Image #20 from http://www.pwrs.ca/announcement_images/products/True%20Line%20Trains/Engines/metromp36.jpg\n",
            "[%] File Downloaded !\n",
            "\n",
            "[%] Downloading Image #21 from http://www.toytrains1.com/images/trains/bo-2002-23.jpg\n",
            "[%] File Downloaded !\n",
            "\n",
            "[%] Downloading Image #22 from http://static1.squarespace.com/static/534c8072e4b0e20a7c9ee97f/53603280e4b0cd208001134a/535f1bd9e4b0f4f8407fbb36/1398743650138/?format=1000w\n",
            "[%] File Downloaded !\n",
            "\n",
            "[%] Downloading Image #23 from https://img2.grunge.com/img/gallery/the-amazing-true-story-of-the-great-locomotive-chase/a-plan-so-crazy-that-it-was-crazy-1582821905.jpg\n",
            "[%] File Downloaded !\n",
            "\n",
            "[%] Downloading Image #24 from http://www.american-rails.com/images/712xNxATSFKnightsen.jpg.pagespeed.ic.odF0iStRqD.jpg\n",
            "[%] File Downloaded !\n",
            "\n",
            "[%] Downloading Image #25 from https://www.american-rails.com/images/DSTMT5118.jpg\n",
            "[%] File Downloaded !\n",
            "\n",
            "[%] Downloading Image #26 from http://www.eurotrainhobby.com/images/pictures/Fleischmann/Fleischmann-404673.jpg\n",
            "[%] File Downloaded !\n",
            "\n",
            "[%] Downloading Image #27 from https://i.ebayimg.com/images/g/uA4AAOSwTxhc~BYV/s-l400.jpg\n",
            "[%] File Downloaded !\n",
            "\n",
            "\n",
            "\n",
            "[!!]Indexing page: 2\n",
            "\n",
            "[%] Indexed 35 Images on Page 2.\n",
            "\n",
            "===============================================\n",
            "\n",
            "[%] Downloading Image #28 from https://live.staticflickr.com/3318/4582574619_6e1a19e18b_b.jpg\n",
            "[%] File Downloaded !\n",
            "\n",
            "[%] Downloading Image #29 from https://www.trainworld.com/upload/iblock/028/23001.jpg\n",
            "[!] Issue getting: https://www.trainworld.com/upload/iblock/028/23001.jpg\n",
            "[!] Error:: HTTP Error 404: Not Found\n",
            "[%] Downloading Image #29 from https://www.trainworld.com/upload/iblock/8f5/23003.jpg\n",
            "[!] Issue getting: https://www.trainworld.com/upload/iblock/8f5/23003.jpg\n",
            "[!] Error:: HTTP Error 404: Not Found\n",
            "[%] Downloading Image #29 from https://i.pinimg.com/736x/9e/1e/75/9e1e750a777d62b35f9c0e8503c8bfca--steam-locomotive-trains.jpg\n",
            "[%] File Downloaded !\n",
            "\n",
            "[%] Downloading Image #30 from https://i.ytimg.com/vi/riR3GlaLHAM/maxresdefault.jpg\n",
            "[%] File Downloaded !\n",
            "\n",
            "\n",
            "\n",
            "[%] Done. Downloaded 30 images.\n",
            "===============================================\n",
            "\n",
            "Please show your support here\n",
            "https://www.buymeacoffee.com/gurugaurav\n",
            "\n",
            "===============================================\n",
            "\n",
            "time: 38.9 s (started: 2021-06-22 12:51:07 +00:00)\n"
          ],
          "name": "stdout"
        }
      ]
    },
    {
      "cell_type": "code",
      "metadata": {
        "colab": {
          "base_uri": "https://localhost:8080/"
        },
        "id": "ufbHBI3NPBmU",
        "outputId": "b2c8294e-c377-41f7-c339-3304e0e3dc11"
      },
      "source": [
        "from bing_image_downloader import downloader\n",
        "downloader.download(\"green parrot\",limit=30,output_dir='images',adult_filter_off=True)"
      ],
      "execution_count": 7,
      "outputs": [
        {
          "output_type": "stream",
          "text": [
            "[%] Downloading Images to /content/images/green parrot\n",
            "\n",
            "\n",
            "[!!]Indexing page: 1\n",
            "\n",
            "[%] Indexed 30 Images on Page 1.\n",
            "\n",
            "===============================================\n",
            "\n",
            "[%] Downloading Image #1 from https://banner2.kisspng.com/20180213/jfe/kisspng-amazon-parrot-bird-true-parrot-computer-file-parrot-5a82dfd75a94c5.368510161518526423371.jpg\n",
            "[%] File Downloaded !\n",
            "\n",
            "[%] Downloading Image #2 from https://pixfeeds.com/images/birds/parrots/1280-1200-516953202-green-and-yellow-parrot.jpg\n",
            "[%] File Downloaded !\n",
            "\n",
            "[%] Downloading Image #3 from https://i.pinimg.com/originals/34/12/71/341271c6ad4c6e76e40ddbb42b58a37c.jpg\n",
            "[%] File Downloaded !\n",
            "\n",
            "[%] Downloading Image #4 from https://i1.treknature.com/photos/3258/parrot1960.jpg\n",
            "[%] File Downloaded !\n",
            "\n",
            "[%] Downloading Image #5 from http://i1.treklens.com/photos/12402/green_parrot.jpg\n",
            "[%] File Downloaded !\n",
            "\n",
            "[%] Downloading Image #6 from https://pngimg.com/uploads/parrot/parrot_PNG730.png\n",
            "[%] File Downloaded !\n",
            "\n",
            "[%] Downloading Image #7 from http://www.singing-wings-aviary.com/wp-content/uploads/2017/11/Parrot.jpg\n",
            "[%] File Downloaded !\n",
            "\n",
            "[%] Downloading Image #8 from https://cuteparrots.com/media/2020/02/Amazon_parrots850.jpg\n",
            "[!] Issue getting: https://cuteparrots.com/media/2020/02/Amazon_parrots850.jpg\n",
            "[!] Error:: HTTP Error 404: Not Found\n",
            "[%] Downloading Image #8 from https://pixfeeds.com/images/birds/parrots/1280-1200-92161797-red-parrots.jpg\n",
            "[%] File Downloaded !\n",
            "\n",
            "[%] Downloading Image #9 from https://media.buzzle.com/media/images-en/gallery/birds/parrots/1200-484626010-psittacoidea-parrot.jpg\n",
            "[%] File Downloaded !\n",
            "\n",
            "[%] Downloading Image #10 from https://i.pinimg.com/originals/c6/ea/5d/c6ea5dbba1133486657806b49cf17c28.jpg\n",
            "[%] File Downloaded !\n",
            "\n",
            "[%] Downloading Image #11 from http://pngimg.com/uploads/parrot/parrot_PNG707.png\n",
            "[%] File Downloaded !\n",
            "\n",
            "[%] Downloading Image #12 from https://thumbs.dreamstime.com/b/small-green-parrots-tree-wild-leaves-tropics-colorful-feathers-83327478.jpg\n",
            "[%] File Downloaded !\n",
            "\n",
            "[%] Downloading Image #13 from https://pixfeeds.com/images/birds/parrots/1280-1200-523049526-colorful-parrot.jpg\n",
            "[%] File Downloaded !\n",
            "\n",
            "[%] Downloading Image #14 from https://www.islandconservation.org/wp-content/uploads/2015/06/island-conservation-green-parrot-norfolk-island-ray-nias-gallery-3.jpg\n",
            "[%] File Downloaded !\n",
            "\n",
            "[%] Downloading Image #15 from https://pngimg.com/uploads/parrot/parrot_PNG715.png\n",
            "[%] File Downloaded !\n",
            "\n",
            "[%] Downloading Image #16 from https://www.petguide.com/wp-content/uploads/2018/06/eclectus-parrot-2.jpg\n",
            "[%] File Downloaded !\n",
            "\n",
            "[%] Downloading Image #17 from https://kids.kiddle.co/images/thumb/a/ac/Papagaio_(Fêmea)_REFON_010907.jpg/300px-Papagaio_(Fêmea)_REFON_010907.jpg\n",
            "[!] Issue getting: https://kids.kiddle.co/images/thumb/a/ac/Papagaio_(Fêmea)_REFON_010907.jpg/300px-Papagaio_(Fêmea)_REFON_010907.jpg\n",
            "[!] Error:: 'ascii' codec can't encode character '\\xea' in position 34: ordinal not in range(128)\n",
            "[%] Downloading Image #17 from https://thumbs.dreamstime.com/z/green-parrot-monk-parakeet-myiopsitta-monachus-quaker-parrot-monk-parakeet-myiopsitta-monachus-quaker-parrot-species-true-165596132.jpg\n",
            "[%] File Downloaded !\n",
            "\n",
            "[%] Downloading Image #18 from https://i.pinimg.com/originals/70/bb/fe/70bbfe8aaad2b1e345e8dfd5d0fd4021.jpg\n",
            "[%] File Downloaded !\n",
            "\n",
            "[%] Downloading Image #19 from http://www.bingilcg.org/uploads/8/9/0/2/8902756/5954150_orig.jpg\n",
            "[%] File Downloaded !\n",
            "\n",
            "[%] Downloading Image #20 from https://pixfeeds.com/images/birds/parrots/1280-1200-516798638-itching-red-parrot.jpg\n",
            "[%] File Downloaded !\n",
            "\n",
            "[%] Downloading Image #21 from https://animals.net/wp-content/uploads/2019/06/Parrot-8-650x425.jpg\n",
            "[%] File Downloaded !\n",
            "\n",
            "[%] Downloading Image #22 from https://www.rspb.org.uk/globalassets/images/birds-and-wildlife/bird-species-illustrations/ring-necked-parakeet_1200x675.jpg\n",
            "[Error]Invalid image, not saving https://www.rspb.org.uk/globalassets/images/birds-and-wildlife/bird-species-illustrations/ring-necked-parakeet_1200x675.jpg\n",
            "\n",
            "[!] Issue getting: https://www.rspb.org.uk/globalassets/images/birds-and-wildlife/bird-species-illustrations/ring-necked-parakeet_1200x675.jpg\n",
            "[!] Error:: Invalid image, not saving https://www.rspb.org.uk/globalassets/images/birds-and-wildlife/bird-species-illustrations/ring-necked-parakeet_1200x675.jpg\n",
            "\n",
            "[%] Downloading Image #22 from https://toyanimal.info/w/images/e/e7/Clubearth_parrots_bluefrontedamazon_1.jpg\n",
            "[%] File Downloaded !\n",
            "\n",
            "[%] Downloading Image #23 from https://thumbs.dreamstime.com/b/beautiful-true-parrot-turquoise-fronted-parrot-beautiful-true-parrot-turquoise-fronted-parrot-amazona-aestiva-173050510.jpg\n",
            "[%] File Downloaded !\n",
            "\n",
            "[%] Downloading Image #24 from https://www.cichlids.com/uploads/tx_usercichlids/user_pics/11728/truegr_661856bf31.jpg\n",
            "[%] File Downloaded !\n",
            "\n",
            "[%] Downloading Image #25 from https://thumbs.dreamstime.com/z/green-parrot-monk-parakeet-myiopsitta-monachus-quaker-parrot-monk-parakeet-myiopsitta-monachus-quaker-parrot-species-true-165596349.jpg\n",
            "[%] File Downloaded !\n",
            "\n",
            "[%] Downloading Image #26 from http://www.cichlids.com/uploads/tx_usercichlids/user_pics/11728/2trueg_bfa3c6c74a.jpg\n",
            "[%] File Downloaded !\n",
            "\n",
            "[%] Downloading Image #27 from https://media.gettyimages.com/photos/redandgreen-macaw-picture-id663849347?s=612x612\n",
            "[%] File Downloaded !\n",
            "\n",
            "\n",
            "\n",
            "[!!]Indexing page: 2\n",
            "\n",
            "[%] Indexed 35 Images on Page 2.\n",
            "\n",
            "===============================================\n",
            "\n",
            "[%] Downloading Image #28 from https://banner2.kisspng.com/20180213/jfe/kisspng-amazon-parrot-bird-true-parrot-computer-file-parrot-5a82dfd75a94c5.368510161518526423371.jpg\n",
            "[%] File Downloaded !\n",
            "\n",
            "[%] Downloading Image #29 from https://pixfeeds.com/images/birds/parrots/1280-1200-516953202-green-and-yellow-parrot.jpg\n",
            "[%] File Downloaded !\n",
            "\n",
            "[%] Downloading Image #30 from https://i.pinimg.com/originals/34/12/71/341271c6ad4c6e76e40ddbb42b58a37c.jpg\n",
            "[%] File Downloaded !\n",
            "\n",
            "\n",
            "\n",
            "[%] Done. Downloaded 30 images.\n",
            "===============================================\n",
            "\n",
            "Please show your support here\n",
            "https://www.buymeacoffee.com/gurugaurav\n",
            "\n",
            "===============================================\n",
            "\n",
            "time: 14.6 s (started: 2021-06-22 12:51:46 +00:00)\n"
          ],
          "name": "stdout"
        }
      ]
    },
    {
      "cell_type": "code",
      "metadata": {
        "id": "neUC-VwjPHt8",
        "colab": {
          "base_uri": "https://localhost:8080/"
        },
        "outputId": "f7e8da13-b71c-495f-d8a4-a9ad40acf153"
      },
      "source": [
        "from bing_image_downloader import downloader\n",
        "downloader.download(\"motorcycle\",limit=30,output_dir='images',adult_filter_off=True)"
      ],
      "execution_count": 8,
      "outputs": [
        {
          "output_type": "stream",
          "text": [
            "[%] Downloading Images to /content/images/motorcycle\n",
            "\n",
            "\n",
            "[!!]Indexing page: 1\n",
            "\n",
            "[%] Indexed 30 Images on Page 1.\n",
            "\n",
            "===============================================\n",
            "\n",
            "[%] Downloading Image #1 from https://uploads.tapatalk-cdn.com/20201031/7978c3d16127bebd58d7ff5bf808012a.jpg\n",
            "[%] File Downloaded !\n",
            "\n",
            "[%] Downloading Image #2 from https://yt3.ggpht.com/a/AATXAJy3C2ddP87YyFUQw9BJMNFRehHiuBQd_1jgmux-RQ=s900-c-k-c0xffffffff-no-rj-mo\n",
            "[%] File Downloaded !\n",
            "\n",
            "[%] Downloading Image #3 from https://blog.motorcycle.com/wp-content/uploads/2016/04/42616-true-america-heros-weekend.jpg\n",
            "[%] File Downloaded !\n",
            "\n",
            "[%] Downloading Image #4 from https://i.pinimg.com/736x/6c/19/59/6c1959695987a21666a31184249c6616--blue-motorcycles.jpg\n",
            "[%] File Downloaded !\n",
            "\n",
            "[%] Downloading Image #5 from http://www.roadrunner.travel/wp/wp-content/uploads/Velo1-772x603.jpg\n",
            "[%] File Downloaded !\n",
            "\n",
            "[%] Downloading Image #6 from https://i.ebayimg.com/00/s/NDY3WDcwMA==/z/qGUAAOSwq9NZu~hV/$_57.JPG?set_id=8800005007\n",
            "[%] File Downloaded !\n",
            "\n",
            "[%] Downloading Image #7 from http://www.bassanipipes.com/images/products/detail/8C16SB.jpg\n",
            "[%] File Downloaded !\n",
            "\n",
            "[%] Downloading Image #8 from https://customdigital.com.au/wp-content/uploads/2018/11/True-Blue-Motorbike-Graphics-Custom-Digital_0003_6-copy.jpg\n",
            "[%] File Downloaded !\n",
            "\n",
            "[%] Downloading Image #9 from https://www.indianmotorcycles.net/cdn-cgi/image/format=auto,onerror=redirect,width=1920,height=1920,fit=scale-down/https://www.indianmotorcycles.net/attachments/20150726_184427000_ios-jpg.420608/\n",
            "[%] File Downloaded !\n",
            "\n",
            "[%] Downloading Image #10 from http://pm1.narvii.com/7447/ddae9b351979f039449558ed0537deaf361debb1r1-720-717v2_uhq.jpg\n",
            "[%] File Downloaded !\n",
            "\n",
            "[%] Downloading Image #11 from http://i.imgur.com/j9fcoHH.jpg\n",
            "[%] File Downloaded !\n",
            "\n",
            "[%] Downloading Image #12 from http://www.bassanipipes.com/images/products/detail/8C16SB_Angle.jpg\n",
            "[%] File Downloaded !\n",
            "\n",
            "[%] Downloading Image #13 from https://www.chiefmotorcycleforum.com/gallery/343-280614215003.jpeg\n",
            "[%] File Downloaded !\n",
            "\n",
            "[%] Downloading Image #14 from https://resourcesssl.newscdn.com.au/sponsored/hero-1kii545db.jpg\n",
            "[%] File Downloaded !\n",
            "\n",
            "[%] Downloading Image #15 from https://www.indianmotorcycles.net/attachments/true-duals-jpg.315865/\n",
            "[%] File Downloaded !\n",
            "\n",
            "[%] Downloading Image #16 from https://www.true.co.uk/wp-content/uploads/motorbike.jpg\n",
            "[%] File Downloaded !\n",
            "\n",
            "[%] Downloading Image #17 from https://www.denniskirk.com/dk/product_images/oe/1200pix/oe4407992.jpg\n",
            "[%] File Downloaded !\n",
            "\n",
            "[%] Downloading Image #18 from https://i.ytimg.com/vi/ZJ2wBWsN-zg/maxresdefault.jpg\n",
            "[%] File Downloaded !\n",
            "\n",
            "[%] Downloading Image #19 from https://www.chiefmotorcycleforum.com/gallery/477-280215170344.jpeg\n",
            "[%] File Downloaded !\n",
            "\n",
            "[%] Downloading Image #20 from https://www.dragbike.com/wp-content/uploads/santa_pod_front_and_lift_zoomed-scaled.jpg\n",
            "[%] File Downloaded !\n",
            "\n",
            "[%] Downloading Image #21 from https://static1.hotcarsimages.com/wordpress/wp-content/uploads/2019/11/norman-reedus-bike-feature.jpg\n",
            "[Error]Invalid image, not saving https://static1.hotcarsimages.com/wordpress/wp-content/uploads/2019/11/norman-reedus-bike-feature.jpg\n",
            "\n",
            "[!] Issue getting: https://static1.hotcarsimages.com/wordpress/wp-content/uploads/2019/11/norman-reedus-bike-feature.jpg\n",
            "[!] Error:: Invalid image, not saving https://static1.hotcarsimages.com/wordpress/wp-content/uploads/2019/11/norman-reedus-bike-feature.jpg\n",
            "\n",
            "[%] Downloading Image #21 from https://ae01.alicdn.com/kf/HTB1Rl8kRNjaK1RjSZKzq6xVwXXaG/JASTER-100-true-capacity-wholesale-price-1GB-2GB-4GB-8GB-16GB-32GB-motorcycle-design-fashion-rubber.jpg\n",
            "[%] File Downloaded !\n",
            "\n",
            "[%] Downloading Image #22 from https://www.viewbug.com/media/mediafiles/2015/10/26/59876953_large1300.jpg\n",
            "[%] File Downloaded !\n",
            "\n",
            "[%] Downloading Image #23 from https://i.pinimg.com/736x/b2/02/3d/b2023d2caff9a4273056fbbb65ade884--bike-ideas-dips.jpg\n",
            "[%] File Downloaded !\n",
            "\n",
            "[%] Downloading Image #24 from https://i.ytimg.com/vi/JLCkrqW9Ngs/hqdefault.jpg\n",
            "[%] File Downloaded !\n",
            "\n",
            "[%] Downloading Image #25 from https://lh5.googleusercontent.com/proxy/-4yP8JlEaF6cBcNBoBJYedixxDZRXexd3HTj-vDCj043mrUVABXvaLgDVaTUHkOvYnMEQDLkya5Ntc-KvrxigiiaYf_5YoRk4Rtm3M_GQTgxl_aiN6UVxFOTAg=s0-d\n",
            "[%] File Downloaded !\n",
            "\n",
            "[%] Downloading Image #26 from https://www.motorcycle.com/blog/wp-content/uploads/2014/11/110414-2015-honda-29157_True_Adventure_Prototype-583x389.jpg\n",
            "[%] File Downloaded !\n",
            "\n",
            "[%] Downloading Image #27 from https://2yrh403fk8vd1hz9ro2n46dd-wpengine.netdna-ssl.com/wp-content/uploads/2015/02/2015-touratech-rally-set-for-june-dates-1.jpg\n",
            "[%] File Downloaded !\n",
            "\n",
            "[%] Downloading Image #28 from https://indianonlymotorcycles.com/wp-content/uploads/Roadmaster-true-dual-chromenew.png\n",
            "[%] File Downloaded !\n",
            "\n",
            "[%] Downloading Image #29 from https://www.viewbug.com/media/mediafiles/2016/11/01/69473919_medium.jpg\n",
            "[Error]Invalid image, not saving https://www.viewbug.com/media/mediafiles/2016/11/01/69473919_medium.jpg\n",
            "\n",
            "[!] Issue getting: https://www.viewbug.com/media/mediafiles/2016/11/01/69473919_medium.jpg\n",
            "[!] Error:: Invalid image, not saving https://www.viewbug.com/media/mediafiles/2016/11/01/69473919_medium.jpg\n",
            "\n",
            "\n",
            "\n",
            "[!!]Indexing page: 2\n",
            "\n",
            "[%] Indexed 35 Images on Page 2.\n",
            "\n",
            "===============================================\n",
            "\n",
            "[%] Downloading Image #29 from https://uploads.tapatalk-cdn.com/20201031/7978c3d16127bebd58d7ff5bf808012a.jpg\n",
            "[%] File Downloaded !\n",
            "\n",
            "[%] Downloading Image #30 from https://yt3.ggpht.com/a/AATXAJy3C2ddP87YyFUQw9BJMNFRehHiuBQd_1jgmux-RQ=s900-c-k-c0xffffffff-no-rj-mo\n",
            "[%] File Downloaded !\n",
            "\n",
            "\n",
            "\n",
            "[%] Done. Downloaded 30 images.\n",
            "===============================================\n",
            "\n",
            "Please show your support here\n",
            "https://www.buymeacoffee.com/gurugaurav\n",
            "\n",
            "===============================================\n",
            "\n",
            "time: 10.5 s (started: 2021-06-22 12:52:00 +00:00)\n"
          ],
          "name": "stdout"
        }
      ]
    },
    {
      "cell_type": "code",
      "metadata": {
        "id": "PghphfLOPN8N",
        "colab": {
          "base_uri": "https://localhost:8080/"
        },
        "outputId": "7dd615ae-ae27-4295-a725-7020c59158f2"
      },
      "source": [
        "from bing_image_downloader import downloader\n",
        "downloader.download(\"tiger\",limit=30,output_dir='images',adult_filter_off=True)"
      ],
      "execution_count": 9,
      "outputs": [
        {
          "output_type": "stream",
          "text": [
            "[%] Downloading Images to /content/images/tiger\n",
            "\n",
            "\n",
            "[!!]Indexing page: 1\n",
            "\n",
            "[%] Indexed 30 Images on Page 1.\n",
            "\n",
            "===============================================\n",
            "\n",
            "[%] Downloading Image #1 from https://photos.prnewswire.com/prnfull/20160725/392513?max=950\n",
            "[%] File Downloaded !\n",
            "\n",
            "[%] Downloading Image #2 from http://1.bp.blogspot.com/-6ke3HyEZj_Y/Tf7Pf-87AFI/AAAAAAAAAMY/fWJaPHbTQ9o/s400/Sumatran+Tiger+Facts3.jpg\n",
            "[%] File Downloaded !\n",
            "\n",
            "[%] Downloading Image #3 from https://prime.peta.org/wp-content/uploads/2020/11/112720-Tiger-Sanctuaries.jpg\n",
            "[%] File Downloaded !\n",
            "\n",
            "[%] Downloading Image #4 from https://i.natgeofe.com/n/76b1de5f-fe8d-4ca9-a998-e39d97a814e7/ngc-4zXmklsbE56_FtzOFx_k6H2s0N6YB1le.jpg?w=1200\n",
            "[%] File Downloaded !\n",
            "\n",
            "[%] Downloading Image #5 from http://3.bp.blogspot.com/-E2aHKuaJNQY/TpV1oGWvCNI/AAAAAAAABuQ/PvEaHqL2WBA/s1600/tiger.jpg\n",
            "[%] File Downloaded !\n",
            "\n",
            "[%] Downloading Image #6 from https://cbsnews1.cbsistatic.com/hub/i/2020/09/04/7f09b61d-76d7-4a98-9946-40879f7d8fdf/tigerking-preview.jpg\n",
            "[%] File Downloaded !\n",
            "\n",
            "[%] Downloading Image #7 from https://i.redd.it/krxn7jrr23v41.png\n",
            "[%] File Downloaded !\n",
            "\n",
            "[%] Downloading Image #8 from http://1.bp.blogspot.com/-SaKx1pmmSn0/UEYa6xA1pqI/AAAAAAAAGgM/nagN9Eg4844/w1200-h630-p-k-no-nu/true+tiger.jpeg\n",
            "[%] File Downloaded !\n",
            "\n",
            "[%] Downloading Image #9 from https://images.complex.com/complex/image/upload/c_limit,dpr_auto,q_90,w_720/fl_lossy,pg_1/aspbrou6wg59hbaahr8f.jpg\n",
            "[%] File Downloaded !\n",
            "\n",
            "[%] Downloading Image #10 from https://img.discogs.com/xvTswpgC3xMMYGWXte4N_MwIr-w=/fit-in/300x300/filters:strip_icc():format(jpeg):mode_rgb():quality(40)/discogs-images/A-781857-1507677810-7434.jpeg.jpg\n",
            "[%] File Downloaded !\n",
            "\n",
            "[%] Downloading Image #11 from https://3.bp.blogspot.com/-P6uwVcgb8Yc/TXPJ1qgnXTI/AAAAAAAAANs/Z0f8uWywpiY/s1600/TrueTiger430.jpg\n",
            "[%] File Downloaded !\n",
            "\n",
            "[%] Downloading Image #12 from https://i.ytimg.com/vi/GC_kWzA2vUo/maxresdefault.jpg\n",
            "[%] File Downloaded !\n",
            "\n",
            "[%] Downloading Image #13 from https://images-na.ssl-images-amazon.com/images/I/51KlFg6f6mL._SY346_.jpg\n",
            "[%] File Downloaded !\n",
            "\n",
            "[%] Downloading Image #14 from https://img.particlenews.com/image.php?type=thumbnail_1024x576&amp;url=1p8bSZ_0OjNtV8z00\n",
            "[%] File Downloaded !\n",
            "\n",
            "[%] Downloading Image #15 from https://i2.wp.com/www.tropicalbass.com/wp-content/uploads/2012/09/True-Tiger.jpeg\n",
            "[%] File Downloaded !\n",
            "\n",
            "[%] Downloading Image #16 from https://gumlet.assettype.com/esakal/2021-06/cf116594-a8d2-40d0-ac20-743ef2a7bd26/tiger_1.jpg?width=1200&amp;ogImage=true&amp;mode=fill\n",
            "[Error]Invalid image, not saving https://gumlet.assettype.com/esakal/2021-06/cf116594-a8d2-40d0-ac20-743ef2a7bd26/tiger_1.jpg?width=1200&amp;ogImage=true&amp;mode=fill\n",
            "\n",
            "[!] Issue getting: https://gumlet.assettype.com/esakal/2021-06/cf116594-a8d2-40d0-ac20-743ef2a7bd26/tiger_1.jpg?width=1200&amp;ogImage=true&amp;mode=fill\n",
            "[!] Error:: Invalid image, not saving https://gumlet.assettype.com/esakal/2021-06/cf116594-a8d2-40d0-ac20-743ef2a7bd26/tiger_1.jpg?width=1200&amp;ogImage=true&amp;mode=fill\n",
            "\n",
            "[%] Downloading Image #16 from https://s24990.pcdn.co/wp-content/uploads/2021/06/tiger.jpg\n",
            "[%] File Downloaded !\n",
            "\n",
            "[%] Downloading Image #17 from https://image.spreadshirtmedia.com/image-server/v1/mp/compositions/T1272A231MPA3050PT17X4Y8D1022245945S100/views/1,width=550,height=550,appearanceId=231,backgroundColor=CBCBCB,noPt=true,version=1576163137/tiger-yellow-womens-crewneck-sweatshirt.jpg\n",
            "[%] File Downloaded !\n",
            "\n",
            "[%] Downloading Image #18 from https://i.ytimg.com/vi/DEL87XKD-5k/maxresdefault.jpg\n",
            "[%] File Downloaded !\n",
            "\n",
            "[%] Downloading Image #19 from https://www.shottalk.com/attachments/ai392-photobucket-com_albums_pp2_thetruereview01_tigerrehab-png.21445/\n",
            "[%] File Downloaded !\n",
            "\n",
            "[%] Downloading Image #20 from https://www.trueachievements.com/gameimage/134685_0.jpg\n",
            "[%] File Downloaded !\n",
            "\n",
            "[%] Downloading Image #21 from https://gumlet.assettype.com/afkgaming%2Fimport%2Fmedia%2Fimages%2F98255-tiger shroff (2).jpg?w=1200&amp;auto=format%2Ccompress&amp;ogImage=true\n",
            "[!] Issue getting: https://gumlet.assettype.com/afkgaming%2Fimport%2Fmedia%2Fimages%2F98255-tiger shroff (2).jpg?w=1200&amp;auto=format%2Ccompress&amp;ogImage=true\n",
            "[!] Error:: URL can't contain control characters. '/afkgaming%2Fimport%2Fmedia%2Fimages%2F98255-tiger shroff (2).jpg?w=1200&amp;auto=format%2Ccompress&amp;ogImage=true' (found at least ' ')\n",
            "[%] Downloading Image #21 from https://gumlet.assettype.com/saamtv%2F2021-06%2F8deef043-d40e-4090-8737-0b407d778981%2FTiger.jpg?w=1200&amp;auto=format%2Ccompress&amp;ogImage=true\n",
            "[Error]Invalid image, not saving https://gumlet.assettype.com/saamtv%2F2021-06%2F8deef043-d40e-4090-8737-0b407d778981%2FTiger.jpg?w=1200&amp;auto=format%2Ccompress&amp;ogImage=true\n",
            "\n",
            "[!] Issue getting: https://gumlet.assettype.com/saamtv%2F2021-06%2F8deef043-d40e-4090-8737-0b407d778981%2FTiger.jpg?w=1200&amp;auto=format%2Ccompress&amp;ogImage=true\n",
            "[!] Error:: Invalid image, not saving https://gumlet.assettype.com/saamtv%2F2021-06%2F8deef043-d40e-4090-8737-0b407d778981%2FTiger.jpg?w=1200&amp;auto=format%2Ccompress&amp;ogImage=true\n",
            "\n",
            "[%] Downloading Image #21 from https://gumlet.assettype.com/freepressjournal%2F2021-06%2F7a6918ae-5158-4099-aad8-45efa8d9203b%2Ftigress.jpg?w=1200&amp;auto=format%2Ccompress&amp;ogImage=true\n",
            "[Error]Invalid image, not saving https://gumlet.assettype.com/freepressjournal%2F2021-06%2F7a6918ae-5158-4099-aad8-45efa8d9203b%2Ftigress.jpg?w=1200&amp;auto=format%2Ccompress&amp;ogImage=true\n",
            "\n",
            "[!] Issue getting: https://gumlet.assettype.com/freepressjournal%2F2021-06%2F7a6918ae-5158-4099-aad8-45efa8d9203b%2Ftigress.jpg?w=1200&amp;auto=format%2Ccompress&amp;ogImage=true\n",
            "[!] Error:: Invalid image, not saving https://gumlet.assettype.com/freepressjournal%2F2021-06%2F7a6918ae-5158-4099-aad8-45efa8d9203b%2Ftigress.jpg?w=1200&amp;auto=format%2Ccompress&amp;ogImage=true\n",
            "\n",
            "[%] Downloading Image #21 from https://images.assettype.com/freepressjournal%2F2021-06%2Fd5c2ca1e-c2d7-4ee2-bd22-1a24d39b8be7%2FBeFunky_collage__3_.jpg?rect=0%2C16%2C769%2C404&amp;w=1200&amp;auto=format%2Ccompress&amp;ogImage=true\n",
            "[%] File Downloaded !\n",
            "\n",
            "[%] Downloading Image #22 from https://cdn.shopify.com/s/files/1/1827/2231/products/2776a4762fbc347ac9e04eaacc9b63af4bb7f99c134771d97772254ed2cd4167_620x.jpg?v=1624304116\n",
            "[%] File Downloaded !\n",
            "\n",
            "[%] Downloading Image #23 from https://cdn.shopify.com/s/files/1/0398/4546/2184/products/Tiger-Front-Offwave_1200x1200.jpg?v=1623940248\n",
            "[%] File Downloaded !\n",
            "\n",
            "[%] Downloading Image #24 from https://images.assettype.com/freepressjournal%2F2020-10%2Fe414dc5d-24a0-42a9-87a6-1f8de88c1cbd%2F2016_11_18T091019Z_1_LYNXeMPECAH0GF_RTROPTP_3_INDIA_MODI_CORRUPTION3qw.jpg?rect=29%2C0%2C571%2C300&amp;w=1200&amp;auto=format%2Ccompress&amp;ogImage=true\n",
            "[%] File Downloaded !\n",
            "\n",
            "[%] Downloading Image #25 from http://www.aaamusic.co.uk/wordpress2/wp-content/uploads/2011/05/true-tiger.jpg\n",
            "[%] File Downloaded !\n",
            "\n",
            "[%] Downloading Image #26 from https://i.ytimg.com/vi/mJtTPCGs92Y/maxresdefault.jpg\n",
            "[%] File Downloaded !\n",
            "\n",
            "\n",
            "\n",
            "[!!]Indexing page: 2\n",
            "\n",
            "[%] Indexed 35 Images on Page 2.\n",
            "\n",
            "===============================================\n",
            "\n",
            "[%] Downloading Image #27 from https://photos.prnewswire.com/prnfull/20160725/392513?max=950\n",
            "[%] File Downloaded !\n",
            "\n",
            "[%] Downloading Image #28 from http://1.bp.blogspot.com/-6ke3HyEZj_Y/Tf7Pf-87AFI/AAAAAAAAAMY/fWJaPHbTQ9o/s400/Sumatran+Tiger+Facts3.jpg\n",
            "[%] File Downloaded !\n",
            "\n",
            "[%] Downloading Image #29 from https://prime.peta.org/wp-content/uploads/2020/11/112720-Tiger-Sanctuaries.jpg\n",
            "[%] File Downloaded !\n",
            "\n",
            "[%] Downloading Image #30 from https://i.natgeofe.com/n/76b1de5f-fe8d-4ca9-a998-e39d97a814e7/ngc-4zXmklsbE56_FtzOFx_k6H2s0N6YB1le.jpg?w=1200\n",
            "[%] File Downloaded !\n",
            "\n",
            "\n",
            "\n",
            "[%] Done. Downloaded 30 images.\n",
            "===============================================\n",
            "\n",
            "Please show your support here\n",
            "https://www.buymeacoffee.com/gurugaurav\n",
            "\n",
            "===============================================\n",
            "\n",
            "time: 10.8 s (started: 2021-06-22 12:52:11 +00:00)\n"
          ],
          "name": "stdout"
        }
      ]
    },
    {
      "cell_type": "code",
      "metadata": {
        "id": "aqVrrWxoPTYh",
        "colab": {
          "base_uri": "https://localhost:8080/"
        },
        "outputId": "d84d192a-539c-400a-a99d-dd12ffb09846"
      },
      "source": [
        "import numpy as np\n",
        "a = np.array([[1,2,3,4,5],\n",
        "             [4,5,6,7,8]])\n",
        "a.ndim"
      ],
      "execution_count": 10,
      "outputs": [
        {
          "output_type": "execute_result",
          "data": {
            "text/plain": [
              "2"
            ]
          },
          "metadata": {
            "tags": []
          },
          "execution_count": 10
        },
        {
          "output_type": "stream",
          "text": [
            "time: 12.9 ms (started: 2021-06-22 12:52:22 +00:00)\n"
          ],
          "name": "stdout"
        }
      ]
    },
    {
      "cell_type": "code",
      "metadata": {
        "id": "ecKw4ft2PaVj",
        "colab": {
          "base_uri": "https://localhost:8080/"
        },
        "outputId": "5cd089a3-0287-42b5-df4f-c3e02f44fcd2"
      },
      "source": [
        "a.flatten()"
      ],
      "execution_count": 11,
      "outputs": [
        {
          "output_type": "execute_result",
          "data": {
            "text/plain": [
              "array([1, 2, 3, 4, 5, 4, 5, 6, 7, 8])"
            ]
          },
          "metadata": {
            "tags": []
          },
          "execution_count": 11
        },
        {
          "output_type": "stream",
          "text": [
            "time: 14.4 ms (started: 2021-06-22 12:52:22 +00:00)\n"
          ],
          "name": "stdout"
        }
      ]
    },
    {
      "cell_type": "code",
      "metadata": {
        "colab": {
          "base_uri": "https://localhost:8080/"
        },
        "id": "RmUWz5hbPeXL",
        "outputId": "5fb41a6a-b406-4cd3-b6e1-9de12fd67099"
      },
      "source": [
        "#Preprocessing\n",
        "#1. Resize\n",
        "#2. Flattening\n",
        "import os\n",
        "import matplotlib.pyplot as plt\n",
        "import numpy as np\n",
        "from skimage.io import imread\n",
        "from skimage.transform import resize\n",
        "\n",
        "target = []\n",
        "images = []\n",
        "flat_data = []\n",
        "DATADIR = '/content/images'\n",
        "CATEGORIES = ['motorcycle','green grapes','green parrot','locomotive','tiger']\n",
        "for category in CATEGORIES:\n",
        "  class_num = CATEGORIES.index(category)  #Label Encoding the Values\n",
        "  path = os.path.join(DATADIR,category)   #Create path to use all the images\n",
        "  for img in os.listdir(path):\n",
        "    img_array = imread(os.path.join(path,img))\n",
        "    #print(img_array.shape)\n",
        "    #plt.imshow(img_array)\n",
        "    img_resized = resize(img_array,(150,150,3)) #Normalizes the value from 0 to 1\n",
        "    flat_data.append(img_resized.flatten())\n",
        "    images.append(img_resized)\n",
        "    target.append(class_num)\n",
        "\n",
        "flat_data = np.array(flat_data)\n",
        "target = np.array(target)\n",
        "images = np.array(images)"
      ],
      "execution_count": 12,
      "outputs": [
        {
          "output_type": "stream",
          "text": [
            "time: 29.9 s (started: 2021-06-22 12:52:22 +00:00)\n"
          ],
          "name": "stdout"
        }
      ]
    },
    {
      "cell_type": "code",
      "metadata": {
        "colab": {
          "base_uri": "https://localhost:8080/",
          "height": 299
        },
        "id": "j72PXBd9Pscv",
        "outputId": "8f412236-4d1e-4e5e-f812-d94334cfbd59"
      },
      "source": [
        "unique,count = np.unique(target,return_counts=True)\n",
        "plt.bar(CATEGORIES,count)"
      ],
      "execution_count": 13,
      "outputs": [
        {
          "output_type": "execute_result",
          "data": {
            "text/plain": [
              "<BarContainer object of 5 artists>"
            ]
          },
          "metadata": {
            "tags": []
          },
          "execution_count": 13
        },
        {
          "output_type": "display_data",
          "data": {
            "image/png": "[encoded data removed]",
            "text/plain": [
              "<Figure size 432x288 with 1 Axes>"
            ]
          },
          "metadata": {
            "tags": [],
            "needs_background": "light"
          }
        },
        {
          "output_type": "stream",
          "text": [
            "time: 232 ms (started: 2021-06-22 12:52:51 +00:00)\n"
          ],
          "name": "stdout"
        }
      ]
    },
    {
      "cell_type": "code",
      "metadata": {
        "colab": {
          "base_uri": "https://localhost:8080/"
        },
        "id": "g1d1E6nYPxBq",
        "outputId": "42ddb070-5d2a-4475-8830-1dcd003c35c7"
      },
      "source": [
        "#Split data into Training and test\n",
        "from sklearn.model_selection import train_test_split\n",
        "x_train,x_test,y_train,y_test = train_test_split(flat_data,target,test_size=0.3,random_state=100)"
      ],
      "execution_count": 14,
      "outputs": [
        {
          "output_type": "stream",
          "text": [
            "time: 230 ms (started: 2021-06-22 12:52:52 +00:00)\n"
          ],
          "name": "stdout"
        }
      ]
    },
    {
      "cell_type": "code",
      "metadata": {
        "id": "LD2domOTP005",
        "colab": {
          "base_uri": "https://localhost:8080/"
        },
        "outputId": "1d027e31-f414-48c4-a6d0-a5c239212865"
      },
      "source": [
        "from sklearn.model_selection import GridSearchCV\n",
        "from sklearn import svm\n",
        "param_grid = [\n",
        "              {'C':[1,10,100,1000],'kernel':['linear']},\n",
        "              {'C':[1,10,100,1000],'gamma':[0.001,0.0001],'kernel':['rbf']},\n",
        "]\n",
        "svc = svm.SVC(probability=True)\n",
        "clf = GridSearchCV(svc,param_grid)\n",
        "clf.fit(x_train,y_train)"
      ],
      "execution_count": 15,
      "outputs": [
        {
          "output_type": "execute_result",
          "data": {
            "text/plain": [
              "GridSearchCV(cv=None, error_score=nan,\n",
              "             estimator=SVC(C=1.0, break_ties=False, cache_size=200,\n",
              "                           class_weight=None, coef0=0.0,\n",
              "                           decision_function_shape='ovr', degree=3,\n",
              "                           gamma='scale', kernel='rbf', max_iter=-1,\n",
              "                           probability=True, random_state=None, shrinking=True,\n",
              "                           tol=0.001, verbose=False),\n",
              "             iid='deprecated', n_jobs=None,\n",
              "             param_grid=[{'C': [1, 10, 100, 1000], 'kernel': ['linear']},\n",
              "                         {'C': [1, 10, 100, 1000], 'gamma': [0.001, 0.0001],\n",
              "                          'kernel': ['rbf']}],\n",
              "             pre_dispatch='2*n_jobs', refit=True, return_train_score=False,\n",
              "             scoring=None, verbose=0)"
            ]
          },
          "metadata": {
            "tags": []
          },
          "execution_count": 15
        },
        {
          "output_type": "stream",
          "text": [
            "time: 4min 47s (started: 2021-06-22 12:52:52 +00:00)\n"
          ],
          "name": "stdout"
        }
      ]
    },
    {
      "cell_type": "code",
      "metadata": {
        "id": "J3VifQZOSVVC",
        "colab": {
          "base_uri": "https://localhost:8080/"
        },
        "outputId": "a5dbcc86-0505-453a-ab3d-c9ff87e41d07"
      },
      "source": [
        "y_pred = clf.predict(x_test)\n",
        "y_pred"
      ],
      "execution_count": 16,
      "outputs": [
        {
          "output_type": "execute_result",
          "data": {
            "text/plain": [
              "array([4, 3, 3, 3, 2, 0, 1, 3, 0, 1, 1, 3, 0, 2, 1, 3, 2, 1, 0, 4, 4, 1,\n",
              "       3, 3, 0, 0, 2, 3, 1, 4, 2, 0, 3, 3, 0, 2, 0, 2, 4, 3, 1, 3, 3, 1,\n",
              "       1])"
            ]
          },
          "metadata": {
            "tags": []
          },
          "execution_count": 16
        },
        {
          "output_type": "stream",
          "text": [
            "time: 386 ms (started: 2021-06-22 12:57:39 +00:00)\n"
          ],
          "name": "stdout"
        }
      ]
    },
    {
      "cell_type": "code",
      "metadata": {
        "id": "UawTsdF2Scti",
        "colab": {
          "base_uri": "https://localhost:8080/"
        },
        "outputId": "db48d359-e6d1-452a-9613-499e71bbbd5b"
      },
      "source": [
        "y_test"
      ],
      "execution_count": 17,
      "outputs": [
        {
          "output_type": "execute_result",
          "data": {
            "text/plain": [
              "array([4, 0, 3, 0, 4, 4, 1, 0, 3, 1, 1, 3, 0, 0, 4, 3, 2, 2, 4, 3, 4, 1,\n",
              "       4, 0, 2, 4, 2, 0, 2, 4, 2, 3, 3, 0, 0, 1, 1, 2, 4, 3, 1, 3, 3, 3,\n",
              "       1])"
            ]
          },
          "metadata": {
            "tags": []
          },
          "execution_count": 17
        },
        {
          "output_type": "stream",
          "text": [
            "time: 4.54 ms (started: 2021-06-22 12:57:40 +00:00)\n"
          ],
          "name": "stdout"
        }
      ]
    },
    {
      "cell_type": "code",
      "metadata": {
        "id": "905tHTxLSg2T",
        "colab": {
          "base_uri": "https://localhost:8080/"
        },
        "outputId": "1474fb2d-9ceb-4a12-bda3-149a495370ab"
      },
      "source": [
        "from sklearn.metrics import accuracy_score,confusion_matrix"
      ],
      "execution_count": 18,
      "outputs": [
        {
          "output_type": "stream",
          "text": [
            "time: 1.5 ms (started: 2021-06-22 12:57:40 +00:00)\n"
          ],
          "name": "stdout"
        }
      ]
    },
    {
      "cell_type": "code",
      "metadata": {
        "id": "l94HIwGmSios",
        "colab": {
          "base_uri": "https://localhost:8080/"
        },
        "outputId": "3cd96043-7122-4916-a9bd-d0314280e2d1"
      },
      "source": [
        "confusion_matrix(y_pred,y_test)"
      ],
      "execution_count": 19,
      "outputs": [
        {
          "output_type": "execute_result",
          "data": {
            "text/plain": [
              "array([[2, 1, 1, 2, 3],\n",
              "       [0, 6, 2, 1, 1],\n",
              "       [1, 1, 4, 0, 1],\n",
              "       [6, 0, 0, 7, 1],\n",
              "       [0, 0, 0, 1, 4]])"
            ]
          },
          "metadata": {
            "tags": []
          },
          "execution_count": 19
        },
        {
          "output_type": "stream",
          "text": [
            "time: 6.16 ms (started: 2021-06-22 12:57:40 +00:00)\n"
          ],
          "name": "stdout"
        }
      ]
    },
    {
      "cell_type": "code",
      "metadata": {
        "id": "lk_2PCgBSlRH",
        "colab": {
          "base_uri": "https://localhost:8080/"
        },
        "outputId": "111cdd31-8c02-47a4-bb64-71ae2553aaf1"
      },
      "source": [
        "#Save the model using Pickle library\n",
        "import pickle\n",
        "pickle.dump(clf,open('img_model.p','wb'))"
      ],
      "execution_count": 20,
      "outputs": [
        {
          "output_type": "stream",
          "text": [
            "time: 73.4 ms (started: 2021-06-22 12:57:40 +00:00)\n"
          ],
          "name": "stdout"
        }
      ]
    },
    {
      "cell_type": "code",
      "metadata": {
        "id": "LyJ-IKE4Sr_z",
        "colab": {
          "base_uri": "https://localhost:8080/"
        },
        "outputId": "b14cc6f1-59fc-4a5c-81d8-6ab5b07f124b"
      },
      "source": [
        "model = pickle.load(open('img_model.p','rb'))"
      ],
      "execution_count": 21,
      "outputs": [
        {
          "output_type": "stream",
          "text": [
            "time: 56.9 ms (started: 2021-06-22 12:57:40 +00:00)\n"
          ],
          "name": "stdout"
        }
      ]
    },
    {
      "cell_type": "code",
      "metadata": {
        "id": "h6Be9Cs3SvyD",
        "colab": {
          "base_uri": "https://localhost:8080/",
          "height": 337
        },
        "outputId": "cbfde197-8af8-4563-9e40-0e039e7ed5ca"
      },
      "source": [
        "# Testing a brand new image\n",
        "flat_data = []\n",
        "url = input('Enter your url')\n",
        "img = imread(url)\n",
        "img_resized = resize(img,(150,150,3))\n",
        "flat_data.append(img_resized.flatten())\n",
        "flat_data = np.array(flat_data)\n",
        "print(img.shape)\n",
        "plt.imshow(img_resized)\n",
        "y_out = model.predict(flat_data)\n",
        "y_out = CATEGORIES[y_out[0]]\n",
        "print(f'PREDICTED OUTPUT: {y_out}')"
      ],
      "execution_count": 26,
      "outputs": [
        {
          "output_type": "stream",
          "text": [
            "Enter your urlhttps://th.bing.com/th/id/OIP.tICGR3ChKIh6FMsJWB-sEgHaEK?pid=ImgDet&rs=1\n",
            "(266, 474, 3)\n",
            "PREDICTED OUTPUT: tiger\n"
          ],
          "name": "stdout"
        },
        {
          "output_type": "display_data",
          "data": {
            "image/png": "[encoded data removed]",
            "text/plain": [
              "<Figure size 432x288 with 1 Axes>"
            ]
          },
          "metadata": {
            "tags": [],
            "needs_background": "light"
          }
        },
        {
          "output_type": "stream",
          "text": [
            "time: 3.47 s (started: 2021-06-22 13:01:18 +00:00)\n"
          ],
          "name": "stdout"
        }
      ]
    },
    {
      "cell_type": "code",
      "metadata": {
        "id": "jMHzQW5GTjJi",
        "colab": {
          "base_uri": "https://localhost:8080/"
        },
        "outputId": "fe30c95e-4cbc-4848-88ad-777a676fcc27"
      },
      "source": [
        "!ls"
      ],
      "execution_count": 27,
      "outputs": [
        {
          "output_type": "stream",
          "text": [
            "images\timg_model.p  sample_data\n",
            "time: 129 ms (started: 2021-06-22 13:01:32 +00:00)\n"
          ],
          "name": "stdout"
        }
      ]
    },
    {
      "cell_type": "code",
      "metadata": {
        "id": "-qv8R75nTt8j",
        "colab": {
          "base_uri": "https://localhost:8080/",
          "height": 1000
        },
        "outputId": "876a17d5-1a3e-4eee-ee13-3d05041b63c4"
      },
      "source": [
        "!pip install streamlit"
      ],
      "execution_count": 28,
      "outputs": [
        {
          "output_type": "stream",
          "text": [
            "Collecting streamlit\n",
            "\u001b[?25l  Downloading https://files.pythonhosted.org/packages/d7/0c/469ee9160ad7bc064eb498fa95aefd4e96b593ce0d53fb07ff217badff47/streamlit-0.83.0-py2.py3-none-any.whl (7.7MB)\n",
            "\u001b[K     |████████████████████████████████| 7.8MB 4.5MB/s \n",
            "\u001b[?25hRequirement already satisfied: toml in /usr/local/lib/python3.7/dist-packages (from streamlit) (0.10.2)\n",
            "Requirement already satisfied: altair>=3.2.0 in /usr/local/lib/python3.7/dist-packages (from streamlit) (4.1.0)\n",
            "Requirement already satisfied: pillow>=6.2.0 in /usr/local/lib/python3.7/dist-packages (from streamlit) (7.1.2)\n",
            "Requirement already satisfied: pyarrow; python_version < \"3.9\" in /usr/local/lib/python3.7/dist-packages (from streamlit) (3.0.0)\n",
            "Collecting gitpython\n",
            "\u001b[?25l  Downloading https://files.pythonhosted.org/packages/bc/91/b38c4fabb6e5092ab23492ded4f318ab7299b19263272b703478038c0fbc/GitPython-3.1.18-py3-none-any.whl (170kB)\n",
            "\u001b[K     |████████████████████████████████| 174kB 31.9MB/s \n",
            "\u001b[?25hCollecting blinker\n",
            "\u001b[?25l  Downloading https://files.pythonhosted.org/packages/1b/51/e2a9f3b757eb802f61dc1f2b09c8c99f6eb01cf06416c0671253536517b6/blinker-1.4.tar.gz (111kB)\n",
            "\u001b[K     |████████████████████████████████| 112kB 44.0MB/s \n",
            "\u001b[?25hRequirement already satisfied: pandas>=0.21.0 in /usr/local/lib/python3.7/dist-packages (from streamlit) (1.1.5)\n",
            "Requirement already satisfied: requests in /usr/local/lib/python3.7/dist-packages (from streamlit) (2.23.0)\n",
            "Requirement already satisfied: packaging in /usr/local/lib/python3.7/dist-packages (from streamlit) (20.9)\n",
            "Requirement already satisfied: tzlocal in /usr/local/lib/python3.7/dist-packages (from streamlit) (1.5.1)\n",
            "Requirement already satisfied: tornado>=5.0 in /usr/local/lib/python3.7/dist-packages (from streamlit) (5.1.1)\n",
            "Requirement already satisfied: numpy in /usr/local/lib/python3.7/dist-packages (from streamlit) (1.19.5)\n",
            "Requirement already satisfied: astor in /usr/local/lib/python3.7/dist-packages (from streamlit) (0.8.1)\n",
            "Requirement already satisfied: click<8.0,>=7.0 in /usr/local/lib/python3.7/dist-packages (from streamlit) (7.1.2)\n",
            "Requirement already satisfied: protobuf!=3.11,>=3.6.0 in /usr/local/lib/python3.7/dist-packages (from streamlit) (3.12.4)\n",
            "Collecting pydeck>=0.1.dev5\n",
            "\u001b[?25l  Downloading https://files.pythonhosted.org/packages/d6/bc/f0e44828e4290367c869591d50d3671a4d0ee94926da6cb734b7b200308c/pydeck-0.6.2-py2.py3-none-any.whl (4.2MB)\n",
            "\u001b[K     |████████████████████████████████| 4.2MB 34.1MB/s \n",
            "\u001b[?25hCollecting watchdog; platform_system != \"Darwin\"\n",
            "\u001b[?25l  Downloading https://files.pythonhosted.org/packages/f2/5b/36b3b11e557830de6fc1dc06e9aa3ee274119b8cea9cc98175dbbf72cf87/watchdog-2.1.2-py3-none-manylinux2014_x86_64.whl (74kB)\n",
            "\u001b[K     |████████████████████████████████| 81kB 8.2MB/s \n",
            "\u001b[?25hCollecting base58\n",
            "  Downloading https://files.pythonhosted.org/packages/b8/a1/d9f565e9910c09fd325dc638765e8843a19fa696275c16cc08cf3b0a3c25/base58-2.1.0-py3-none-any.whl\n",
            "Collecting validators\n",
            "  Downloading https://files.pythonhosted.org/packages/db/2f/7fed3ee94ad665ad2c1de87f858f10a7785251ff75b4fd47987888d07ef1/validators-0.18.2-py3-none-any.whl\n",
            "Requirement already satisfied: cachetools>=4.0 in /usr/local/lib/python3.7/dist-packages (from streamlit) (4.2.2)\n",
            "Requirement already satisfied: python-dateutil in /usr/local/lib/python3.7/dist-packages (from streamlit) (2.8.1)\n",
            "Requirement already satisfied: jinja2 in /usr/local/lib/python3.7/dist-packages (from altair>=3.2.0->streamlit) (2.11.3)\n",
            "Requirement already satisfied: entrypoints in /usr/local/lib/python3.7/dist-packages (from altair>=3.2.0->streamlit) (0.3)\n",
            "Requirement already satisfied: jsonschema in /usr/local/lib/python3.7/dist-packages (from altair>=3.2.0->streamlit) (2.6.0)\n",
            "Requirement already satisfied: toolz in /usr/local/lib/python3.7/dist-packages (from altair>=3.2.0->streamlit) (0.11.1)\n",
            "Requirement already satisfied: typing-extensions>=3.7.4.0; python_version < \"3.8\" in /usr/local/lib/python3.7/dist-packages (from gitpython->streamlit) (3.7.4.3)\n",
            "Collecting gitdb<5,>=4.0.1\n",
            "\u001b[?25l  Downloading https://files.pythonhosted.org/packages/ea/e8/f414d1a4f0bbc668ed441f74f44c116d9816833a48bf81d22b697090dba8/gitdb-4.0.7-py3-none-any.whl (63kB)\n",
            "\u001b[K     |████████████████████████████████| 71kB 7.3MB/s \n",
            "\u001b[?25hRequirement already satisfied: pytz>=2017.2 in /usr/local/lib/python3.7/dist-packages (from pandas>=0.21.0->streamlit) (2018.9)\n",
            "Requirement already satisfied: certifi>=2017.4.17 in /usr/local/lib/python3.7/dist-packages (from requests->streamlit) (2021.5.30)\n",
            "Requirement already satisfied: chardet<4,>=3.0.2 in /usr/local/lib/python3.7/dist-packages (from requests->streamlit) (3.0.4)\n",
            "Requirement already satisfied: idna<3,>=2.5 in /usr/local/lib/python3.7/dist-packages (from requests->streamlit) (2.10)\n",
            "Requirement already satisfied: urllib3!=1.25.0,!=1.25.1,<1.26,>=1.21.1 in /usr/local/lib/python3.7/dist-packages (from requests->streamlit) (1.24.3)\n",
            "Requirement already satisfied: pyparsing>=2.0.2 in /usr/local/lib/python3.7/dist-packages (from packaging->streamlit) (2.4.7)\n",
            "Requirement already satisfied: six>=1.9 in /usr/local/lib/python3.7/dist-packages (from protobuf!=3.11,>=3.6.0->streamlit) (1.15.0)\n",
            "Requirement already satisfied: setuptools in /usr/local/lib/python3.7/dist-packages (from protobuf!=3.11,>=3.6.0->streamlit) (57.0.0)\n",
            "Collecting ipykernel>=5.1.2; python_version >= \"3.4\"\n",
            "\u001b[?25l  Downloading https://files.pythonhosted.org/packages/90/6d/6c8fe4b658f77947d4244ce81f60230c4c8d1dc1a21ae83e63b269339178/ipykernel-5.5.5-py3-none-any.whl (120kB)\n",
            "\u001b[K     |████████████████████████████████| 122kB 43.0MB/s \n",
            "\u001b[?25hRequirement already satisfied: ipywidgets>=7.0.0 in /usr/local/lib/python3.7/dist-packages (from pydeck>=0.1.dev5->streamlit) (7.6.3)\n",
            "Requirement already satisfied: traitlets>=4.3.2 in /usr/local/lib/python3.7/dist-packages (from pydeck>=0.1.dev5->streamlit) (5.0.5)\n",
            "Requirement already satisfied: decorator>=3.4.0 in /usr/local/lib/python3.7/dist-packages (from validators->streamlit) (4.4.2)\n",
            "Requirement already satisfied: MarkupSafe>=0.23 in /usr/local/lib/python3.7/dist-packages (from jinja2->altair>=3.2.0->streamlit) (2.0.1)\n",
            "Collecting smmap<5,>=3.0.1\n",
            "  Downloading https://files.pythonhosted.org/packages/68/ee/d540eb5e5996eb81c26ceffac6ee49041d473bc5125f2aa995cf51ec1cf1/smmap-4.0.0-py2.py3-none-any.whl\n",
            "Requirement already satisfied: jupyter-client in /usr/local/lib/python3.7/dist-packages (from ipykernel>=5.1.2; python_version >= \"3.4\"->pydeck>=0.1.dev5->streamlit) (5.3.5)\n",
            "Requirement already satisfied: ipython>=5.0.0 in /usr/local/lib/python3.7/dist-packages (from ipykernel>=5.1.2; python_version >= \"3.4\"->pydeck>=0.1.dev5->streamlit) (5.5.0)\n",
            "Requirement already satisfied: nbformat>=4.2.0 in /usr/local/lib/python3.7/dist-packages (from ipywidgets>=7.0.0->pydeck>=0.1.dev5->streamlit) (5.1.3)\n",
            "Requirement already satisfied: widgetsnbextension~=3.5.0 in /usr/local/lib/python3.7/dist-packages (from ipywidgets>=7.0.0->pydeck>=0.1.dev5->streamlit) (3.5.1)\n",
            "Requirement already satisfied: jupyterlab-widgets>=1.0.0; python_version >= \"3.6\" in /usr/local/lib/python3.7/dist-packages (from ipywidgets>=7.0.0->pydeck>=0.1.dev5->streamlit) (1.0.0)\n",
            "Requirement already satisfied: ipython-genutils in /usr/local/lib/python3.7/dist-packages (from traitlets>=4.3.2->pydeck>=0.1.dev5->streamlit) (0.2.0)\n",
            "Requirement already satisfied: pyzmq>=13 in /usr/local/lib/python3.7/dist-packages (from jupyter-client->ipykernel>=5.1.2; python_version >= \"3.4\"->pydeck>=0.1.dev5->streamlit) (22.1.0)\n",
            "Requirement already satisfied: jupyter-core>=4.6.0 in /usr/local/lib/python3.7/dist-packages (from jupyter-client->ipykernel>=5.1.2; python_version >= \"3.4\"->pydeck>=0.1.dev5->streamlit) (4.7.1)\n",
            "Requirement already satisfied: pickleshare in /usr/local/lib/python3.7/dist-packages (from ipython>=5.0.0->ipykernel>=5.1.2; python_version >= \"3.4\"->pydeck>=0.1.dev5->streamlit) (0.7.5)\n",
            "Requirement already satisfied: pexpect; sys_platform != \"win32\" in /usr/local/lib/python3.7/dist-packages (from ipython>=5.0.0->ipykernel>=5.1.2; python_version >= \"3.4\"->pydeck>=0.1.dev5->streamlit) (4.8.0)\n",
            "Requirement already satisfied: simplegeneric>0.8 in /usr/local/lib/python3.7/dist-packages (from ipython>=5.0.0->ipykernel>=5.1.2; python_version >= \"3.4\"->pydeck>=0.1.dev5->streamlit) (0.8.1)\n",
            "Requirement already satisfied: prompt-toolkit<2.0.0,>=1.0.4 in /usr/local/lib/python3.7/dist-packages (from ipython>=5.0.0->ipykernel>=5.1.2; python_version >= \"3.4\"->pydeck>=0.1.dev5->streamlit) (1.0.18)\n",
            "Requirement already satisfied: pygments in /usr/local/lib/python3.7/dist-packages (from ipython>=5.0.0->ipykernel>=5.1.2; python_version >= \"3.4\"->pydeck>=0.1.dev5->streamlit) (2.6.1)\n",
            "Requirement already satisfied: notebook>=4.4.1 in /usr/local/lib/python3.7/dist-packages (from widgetsnbextension~=3.5.0->ipywidgets>=7.0.0->pydeck>=0.1.dev5->streamlit) (5.3.1)\n",
            "Requirement already satisfied: ptyprocess>=0.5 in /usr/local/lib/python3.7/dist-packages (from pexpect; sys_platform != \"win32\"->ipython>=5.0.0->ipykernel>=5.1.2; python_version >= \"3.4\"->pydeck>=0.1.dev5->streamlit) (0.7.0)\n",
            "Requirement already satisfied: wcwidth in /usr/local/lib/python3.7/dist-packages (from prompt-toolkit<2.0.0,>=1.0.4->ipython>=5.0.0->ipykernel>=5.1.2; python_version >= \"3.4\"->pydeck>=0.1.dev5->streamlit) (0.2.5)\n",
            "Requirement already satisfied: Send2Trash in /usr/local/lib/python3.7/dist-packages (from notebook>=4.4.1->widgetsnbextension~=3.5.0->ipywidgets>=7.0.0->pydeck>=0.1.dev5->streamlit) (1.5.0)\n",
            "Requirement already satisfied: terminado>=0.8.1 in /usr/local/lib/python3.7/dist-packages (from notebook>=4.4.1->widgetsnbextension~=3.5.0->ipywidgets>=7.0.0->pydeck>=0.1.dev5->streamlit) (0.10.1)\n",
            "Requirement already satisfied: nbconvert in /usr/local/lib/python3.7/dist-packages (from notebook>=4.4.1->widgetsnbextension~=3.5.0->ipywidgets>=7.0.0->pydeck>=0.1.dev5->streamlit) (5.6.1)\n",
            "Requirement already satisfied: testpath in /usr/local/lib/python3.7/dist-packages (from nbconvert->notebook>=4.4.1->widgetsnbextension~=3.5.0->ipywidgets>=7.0.0->pydeck>=0.1.dev5->streamlit) (0.5.0)\n",
            "Requirement already satisfied: defusedxml in /usr/local/lib/python3.7/dist-packages (from nbconvert->notebook>=4.4.1->widgetsnbextension~=3.5.0->ipywidgets>=7.0.0->pydeck>=0.1.dev5->streamlit) (0.7.1)\n",
            "Requirement already satisfied: bleach in /usr/local/lib/python3.7/dist-packages (from nbconvert->notebook>=4.4.1->widgetsnbextension~=3.5.0->ipywidgets>=7.0.0->pydeck>=0.1.dev5->streamlit) (3.3.0)\n",
            "Requirement already satisfied: mistune<2,>=0.8.1 in /usr/local/lib/python3.7/dist-packages (from nbconvert->notebook>=4.4.1->widgetsnbextension~=3.5.0->ipywidgets>=7.0.0->pydeck>=0.1.dev5->streamlit) (0.8.4)\n",
            "Requirement already satisfied: pandocfilters>=1.4.1 in /usr/local/lib/python3.7/dist-packages (from nbconvert->notebook>=4.4.1->widgetsnbextension~=3.5.0->ipywidgets>=7.0.0->pydeck>=0.1.dev5->streamlit) (1.4.3)\n",
            "Requirement already satisfied: webencodings in /usr/local/lib/python3.7/dist-packages (from bleach->nbconvert->notebook>=4.4.1->widgetsnbextension~=3.5.0->ipywidgets>=7.0.0->pydeck>=0.1.dev5->streamlit) (0.5.1)\n",
            "Building wheels for collected packages: blinker\n",
            "  Building wheel for blinker (setup.py) ... \u001b[?25l\u001b[?25hdone\n",
            "  Created wheel for blinker: filename=blinker-1.4-cp37-none-any.whl size=13476 sha256=0a334f82257c2503f768c24a0853b484c0a6a840795aed5f4133ca864825f25d\n",
            "  Stored in directory: /root/.cache/pip/wheels/92/a0/00/8690a57883956a301d91cf4ec999cc0b258b01e3f548f86e89\n",
            "Successfully built blinker\n",
            "\u001b[31mERROR: google-colab 1.0.0 has requirement ipykernel~=4.10, but you'll have ipykernel 5.5.5 which is incompatible.\u001b[0m\n",
            "Installing collected packages: smmap, gitdb, gitpython, blinker, ipykernel, pydeck, watchdog, base58, validators, streamlit\n",
            "  Found existing installation: ipykernel 4.10.1\n",
            "    Uninstalling ipykernel-4.10.1:\n",
            "      Successfully uninstalled ipykernel-4.10.1\n",
            "Successfully installed base58-2.1.0 blinker-1.4 gitdb-4.0.7 gitpython-3.1.18 ipykernel-5.5.5 pydeck-0.6.2 smmap-4.0.0 streamlit-0.83.0 validators-0.18.2 watchdog-2.1.2\n"
          ],
          "name": "stdout"
        },
        {
          "output_type": "display_data",
          "data": {
            "application/vnd.colab-display-data+json": {
              "pip_warning": {
                "packages": [
                  "ipykernel"
                ]
              }
            }
          },
          "metadata": {
            "tags": []
          }
        },
        {
          "output_type": "stream",
          "text": [
            "time: 17.7 s (started: 2021-06-22 13:01:35 +00:00)\n"
          ],
          "name": "stdout"
        }
      ]
    },
    {
      "cell_type": "code",
      "metadata": {
        "id": "m1cI57qIT-_r",
        "colab": {
          "base_uri": "https://localhost:8080/"
        },
        "outputId": "f016a54e-4e4f-4d67-c58d-6fd0465e084b"
      },
      "source": [
        "!pip install pyngrok\n",
        "from pyngrok import ngrok"
      ],
      "execution_count": 29,
      "outputs": [
        {
          "output_type": "stream",
          "text": [
            "Collecting pyngrok\n",
            "\u001b[?25l  Downloading https://files.pythonhosted.org/packages/6b/4e/a2fe095bbe17cf26424c4abcd22a0490e22d01cc628f25af5e220ddbf6f0/pyngrok-5.0.5.tar.gz (745kB)\n",
            "\u001b[K     |████████████████████████████████| 747kB 5.4MB/s \n",
            "\u001b[?25hRequirement already satisfied: PyYAML in /usr/local/lib/python3.7/dist-packages (from pyngrok) (3.13)\n",
            "Building wheels for collected packages: pyngrok\n",
            "  Building wheel for pyngrok (setup.py) ... \u001b[?25l\u001b[?25hdone\n",
            "  Created wheel for pyngrok: filename=pyngrok-5.0.5-cp37-none-any.whl size=19262 sha256=8d2f4fb4fc9a4e99aedbf124b348033dcf85997236a40d926b8826a91e569ba4\n",
            "  Stored in directory: /root/.cache/pip/wheels/0c/13/64/5ebbcc22eaf53fdf5766b397c1fb17c83f5775fdccf0ea1b88\n",
            "Successfully built pyngrok\n",
            "Installing collected packages: pyngrok\n",
            "Successfully installed pyngrok-5.0.5\n",
            "time: 4.89 s (started: 2021-06-22 13:02:00 +00:00)\n"
          ],
          "name": "stdout"
        }
      ]
    },
    {
      "cell_type": "code",
      "metadata": {
        "id": "B3kqKZF1Zn2W"
      },
      "source": [
        "!ngrok"
      ],
      "execution_count": null,
      "outputs": []
    },
    {
      "cell_type": "code",
      "metadata": {
        "id": "xw_KY584Zsvc",
        "colab": {
          "base_uri": "https://localhost:8080/"
        },
        "outputId": "6bc99108-6f07-426b-eabd-b09a6b23c0f9"
      },
      "source": [
        "%%writefile app.py\n",
        "import streamlit as st\n",
        "import numpy as np\n",
        "from skimage.io import imread\n",
        "from skimage.transform import resize\n",
        "import pickle\n",
        "from PIL import Image\n",
        "st.title('Image classifier using Machine Learning')\n",
        "st.text('Upload The Image')\n",
        "model = pickle.load(open('img_model.p','rb'))\n",
        "uploading_file = st.file_uploader(\"Choose an Image ...\",type=\"jpg\")\n",
        "if uploading_file is not None:\n",
        "  img = Image.open(uploading_file)\n",
        "  st.image(img,caption = 'Uploaded Image')\n",
        "\n",
        "  if st.button('Predict'):\n",
        "    CATEGORIES = ['motorcycle','green grapes','green parrot','locomotive','tiger']\n",
        "    st.write('Result...')\n",
        "    flat_data=[]\n",
        "    img = np.array(img)\n",
        "    img_resized = resize(img,(150,150,3))\n",
        "    flat_data.append(img_resized.flatten())\n",
        "    flat_data = np.array(flat_data)\n",
        "    y_out = model.predict(flat_data)\n",
        "    y_out = CATEGORIES[y_out[0]]\n",
        "    st.title(f'PREDICTED OUTPUT: {y_out}')\n",
        "    q = model.predict_proba(flat_data)\n",
        "    for index, item in enumerate(CATEGORIES):\n",
        "      st.write(f'{item}:{q[0][index]*100}')"
      ],
      "execution_count": 30,
      "outputs": [
        {
          "output_type": "stream",
          "text": [
            "Writing app.py\n",
            "time: 7.09 ms (started: 2021-06-22 13:02:08 +00:00)\n"
          ],
          "name": "stdout"
        }
      ]
    },
    {
      "cell_type": "code",
      "metadata": {
        "id": "bmRpGLCEbi6u",
        "colab": {
          "base_uri": "https://localhost:8080/"
        },
        "outputId": "9ecfe468-377e-4dde-d924-3ceac2acb764"
      },
      "source": [
        "!nohup streamlit run app.py &\n",
        "url = ngrok.connect(port='8501')\n",
        "url\n",
        "print(url)\n",
        "!streamlit run app.py --server.port=80"
      ],
      "execution_count": 31,
      "outputs": [
        {
          "output_type": "stream",
          "text": [
            "nohup: appending output to 'nohup.out'\n",
            "NgrokTunnel: \"http://ba96d80757ef.ngrok.io\" -> \"http://localhost:80\"\n",
            "\u001b[0m\n",
            "\u001b[34m\u001b[1m  You can now view your Streamlit app in your browser.\u001b[0m\n",
            "\u001b[0m\n",
            "\u001b[34m  Network URL: \u001b[0m\u001b[1mhttp://172.28.0.2:80\u001b[0m\n",
            "\u001b[34m  External URL: \u001b[0m\u001b[1mhttp://34.66.31.11:80\u001b[0m\n",
            "\u001b[0m\n",
            "\u001b[34m  Stopping...\u001b[0m\n",
            "\u001b[34m  Stopping...\u001b[0m\n",
            "time: 6min 21s (started: 2021-06-22 13:02:12 +00:00)\n"
          ],
          "name": "stdout"
        }
      ]
    },
    {
      "cell_type": "code",
      "metadata": {
        "id": "ZDN3qVl1ekVz"
      },
      "source": [
        "#!streamlit run app.py --server.port=80"
      ],
      "execution_count": null,
      "outputs": []
    },
    {
      "cell_type": "code",
      "metadata": {
        "id": "0iCtOEXOkm_x"
      },
      "source": [
        "#!streamlit run --server.port 80 app.py >/dev/null"
      ],
      "execution_count": null,
      "outputs": []
    }
  ]
}